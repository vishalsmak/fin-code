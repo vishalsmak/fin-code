{
 "cells": [
  {
   "cell_type": "markdown",
   "metadata": {
    "toc": true
   },
   "source": [
    "<h1>Table of Contents<span class=\"tocSkip\"></span></h1>\n",
    "<div class=\"toc\"><ul class=\"toc-item\"><li><span><a href=\"#Comparisons---Truth-and-Falsehood\" data-toc-modified-id=\"Comparisons---Truth-and-Falsehood-1\"><span class=\"toc-item-num\">1&nbsp;&nbsp;</span>Comparisons - Truth and Falsehood</a></span><ul class=\"toc-item\"><li><span><a href=\"#Six-comparison-operators\" data-toc-modified-id=\"Six-comparison-operators-1.1\"><span class=\"toc-item-num\">1.1&nbsp;&nbsp;</span>Six comparison operators</a></span></li><li><span><a href=\"#Boolean-arithmetic\" data-toc-modified-id=\"Boolean-arithmetic-1.2\"><span class=\"toc-item-num\">1.2&nbsp;&nbsp;</span>Boolean arithmetic</a></span></li></ul></li><li><span><a href=\"#Other-data-structures\" data-toc-modified-id=\"Other-data-structures-2\"><span class=\"toc-item-num\">2&nbsp;&nbsp;</span>Other data structures</a></span><ul class=\"toc-item\"><li><span><a href=\"#Lists\" data-toc-modified-id=\"Lists-2.1\"><span class=\"toc-item-num\">2.1&nbsp;&nbsp;</span>Lists</a></span><ul class=\"toc-item\"><li><span><a href=\"#What-is-a-list?\" data-toc-modified-id=\"What-is-a-list?-2.1.1\"><span class=\"toc-item-num\">2.1.1&nbsp;&nbsp;</span>What is a list?</a></span></li><li><span><a href=\"#Inserting-element-using-list-methods-I\" data-toc-modified-id=\"Inserting-element-using-list-methods-I-2.1.2\"><span class=\"toc-item-num\">2.1.2&nbsp;&nbsp;</span>Inserting element using list methods I</a></span></li><li><span><a href=\"#Further-insertion-using-list-methods\" data-toc-modified-id=\"Further-insertion-using-list-methods-2.1.3\"><span class=\"toc-item-num\">2.1.3&nbsp;&nbsp;</span>Further insertion using list methods</a></span></li></ul></li><li><span><a href=\"#Tuples\" data-toc-modified-id=\"Tuples-2.2\"><span class=\"toc-item-num\">2.2&nbsp;&nbsp;</span>Tuples</a></span></li><li><span><a href=\"#Tuples-vs-Lists\" data-toc-modified-id=\"Tuples-vs-Lists-2.3\"><span class=\"toc-item-num\">2.3&nbsp;&nbsp;</span>Tuples vs Lists</a></span></li><li><span><a href=\"#List-to-Tuple\" data-toc-modified-id=\"List-to-Tuple-2.4\"><span class=\"toc-item-num\">2.4&nbsp;&nbsp;</span>List to Tuple</a></span></li></ul></li><li><span><a href=\"#Flow-control-and-loops\" data-toc-modified-id=\"Flow-control-and-loops-3\"><span class=\"toc-item-num\">3&nbsp;&nbsp;</span>Flow control and loops</a></span><ul class=\"toc-item\"><li><span><a href=\"#The-mechanics-and-counting-example\" data-toc-modified-id=\"The-mechanics-and-counting-example-3.1\"><span class=\"toc-item-num\">3.1&nbsp;&nbsp;</span>The mechanics and counting example</a></span></li><li><span><a href=\"#While-loop\" data-toc-modified-id=\"While-loop-3.2\"><span class=\"toc-item-num\">3.2&nbsp;&nbsp;</span>While loop</a></span></li><li><span><a href=\"#For-loops\" data-toc-modified-id=\"For-loops-3.3\"><span class=\"toc-item-num\">3.3&nbsp;&nbsp;</span>For loops</a></span></li></ul></li><li><span><a href=\"#Operating-system-and-File-management\" data-toc-modified-id=\"Operating-system-and-File-management-4\"><span class=\"toc-item-num\">4&nbsp;&nbsp;</span>Operating system and File management</a></span><ul class=\"toc-item\"><li><span><a href=\"#Getting-started\" data-toc-modified-id=\"Getting-started-4.1\"><span class=\"toc-item-num\">4.1&nbsp;&nbsp;</span>Getting started</a></span></li></ul></li><li><span><a href=\"#User-Defined-Functions--$y=f(x)$\" data-toc-modified-id=\"User-Defined-Functions--$y=f(x)$-5\"><span class=\"toc-item-num\">5&nbsp;&nbsp;</span>User Defined Functions  $y=f(x)$</a></span><ul class=\"toc-item\"><li><span><a href=\"#Functions-we-have-met-and-will-meet\" data-toc-modified-id=\"Functions-we-have-met-and-will-meet-5.1\"><span class=\"toc-item-num\">5.1&nbsp;&nbsp;</span>Functions we have met and will meet</a></span><ul class=\"toc-item\"><li><span><a href=\"#Why-write-our-own-functions\" data-toc-modified-id=\"Why-write-our-own-functions-5.1.1\"><span class=\"toc-item-num\">5.1.1&nbsp;&nbsp;</span>Why write our own functions</a></span></li><li><span><a href=\"#User-Defined-Functions\" data-toc-modified-id=\"User-Defined-Functions-5.1.2\"><span class=\"toc-item-num\">5.1.2&nbsp;&nbsp;</span>User Defined Functions</a></span></li><li><span><a href=\"#Writing-a-simple-maths-function\" data-toc-modified-id=\"Writing-a-simple-maths-function-5.1.3\"><span class=\"toc-item-num\">5.1.3&nbsp;&nbsp;</span>Writing a simple maths function</a></span></li><li><span><a href=\"#A-factorial-function\" data-toc-modified-id=\"A-factorial-function-5.1.4\"><span class=\"toc-item-num\">5.1.4&nbsp;&nbsp;</span>A factorial function</a></span></li><li><span><a href=\"#Approximating-a-Cumulative-Distribution-Function-(CDF)\" data-toc-modified-id=\"Approximating-a-Cumulative-Distribution-Function-(CDF)-5.1.5\"><span class=\"toc-item-num\">5.1.5&nbsp;&nbsp;</span>Approximating a Cumulative Distribution Function (CDF)</a></span></li><li><span><a href=\"#Option-pricing\" data-toc-modified-id=\"Option-pricing-5.1.6\"><span class=\"toc-item-num\">5.1.6&nbsp;&nbsp;</span>Option pricing</a></span></li><li><span><a href=\"#Lambda-Statement-$\\lambda$\" data-toc-modified-id=\"Lambda-Statement-$\\lambda$-5.1.7\"><span class=\"toc-item-num\">5.1.7&nbsp;&nbsp;</span>Lambda Statement $\\lambda$</a></span></li></ul></li><li><span><a href=\"#Bisection\" data-toc-modified-id=\"Bisection-5.2\"><span class=\"toc-item-num\">5.2&nbsp;&nbsp;</span>Bisection</a></span></li><li><span><a href=\"#Numerical-Differentiation\" data-toc-modified-id=\"Numerical-Differentiation-5.3\"><span class=\"toc-item-num\">5.3&nbsp;&nbsp;</span>Numerical Differentiation</a></span></li></ul></li><li><span><a href=\"#NumPy\" data-toc-modified-id=\"NumPy-6\"><span class=\"toc-item-num\">6&nbsp;&nbsp;</span>NumPy</a></span><ul class=\"toc-item\"><li><span><a href=\"#Introduction\" data-toc-modified-id=\"Introduction-6.1\"><span class=\"toc-item-num\">6.1&nbsp;&nbsp;</span>Introduction</a></span></li><li><span><a href=\"#Creating-an-array-with-lists\" data-toc-modified-id=\"Creating-an-array-with-lists-6.2\"><span class=\"toc-item-num\">6.2&nbsp;&nbsp;</span>Creating an array with lists</a></span></li><li><span><a href=\"#Simple-operations-on-arrays\" data-toc-modified-id=\"Simple-operations-on-arrays-6.3\"><span class=\"toc-item-num\">6.3&nbsp;&nbsp;</span>Simple operations on arrays</a></span></li><li><span><a href=\"#Populating-arrays-with-elements\" data-toc-modified-id=\"Populating-arrays-with-elements-6.4\"><span class=\"toc-item-num\">6.4&nbsp;&nbsp;</span>Populating arrays with elements</a></span></li><li><span><a href=\"#Array-indexing-and-slicing\" data-toc-modified-id=\"Array-indexing-and-slicing-6.5\"><span class=\"toc-item-num\">6.5&nbsp;&nbsp;</span>Array indexing and slicing</a></span></li><li><span><a href=\"#Solving-linear-systems\" data-toc-modified-id=\"Solving-linear-systems-6.6\"><span class=\"toc-item-num\">6.6&nbsp;&nbsp;</span>Solving linear systems</a></span></li><li><span><a href=\"#Eigenvalues\" data-toc-modified-id=\"Eigenvalues-6.7\"><span class=\"toc-item-num\">6.7&nbsp;&nbsp;</span>Eigenvalues</a></span></li><li><span><a href=\"#Vector-norms\" data-toc-modified-id=\"Vector-norms-6.8\"><span class=\"toc-item-num\">6.8&nbsp;&nbsp;</span>Vector norms</a></span></li></ul></li><li><span><a href=\"#matplotlib---2D\" data-toc-modified-id=\"matplotlib---2D-7\"><span class=\"toc-item-num\">7&nbsp;&nbsp;</span>matplotlib - 2D</a></span><ul class=\"toc-item\"><li><span><a href=\"#Simple-Line-Plots\" data-toc-modified-id=\"Simple-Line-Plots-7.1\"><span class=\"toc-item-num\">7.1&nbsp;&nbsp;</span>Simple Line Plots</a></span></li><li><span><a href=\"#Drawing-a-simple-straight-line\" data-toc-modified-id=\"Drawing-a-simple-straight-line-7.2\"><span class=\"toc-item-num\">7.2&nbsp;&nbsp;</span>Drawing a simple straight line</a></span></li><li><span><a href=\"#Plotting-an-arbitrary-function-$f(x)$\" data-toc-modified-id=\"Plotting-an-arbitrary-function-$f(x)$-7.3\"><span class=\"toc-item-num\">7.3&nbsp;&nbsp;</span>Plotting an arbitrary function $f(x)$</a></span></li><li><span><a href=\"#Adding-labels-and-titles\" data-toc-modified-id=\"Adding-labels-and-titles-7.4\"><span class=\"toc-item-num\">7.4&nbsp;&nbsp;</span>Adding labels and titles</a></span></li><li><span><a href=\"#Multiple-Plots-and-adding-legend\" data-toc-modified-id=\"Multiple-Plots-and-adding-legend-7.5\"><span class=\"toc-item-num\">7.5&nbsp;&nbsp;</span>Multiple Plots and adding legend</a></span></li><li><span><a href=\"#Selecting-colour,-marker-and-linestyle\" data-toc-modified-id=\"Selecting-colour,-marker-and-linestyle-7.6\"><span class=\"toc-item-num\">7.6&nbsp;&nbsp;</span>Selecting colour, marker and linestyle</a></span></li><li><span><a href=\"#Figure-size\" data-toc-modified-id=\"Figure-size-7.7\"><span class=\"toc-item-num\">7.7&nbsp;&nbsp;</span>Figure size</a></span></li><li><span><a href=\"#Multiple-plots\" data-toc-modified-id=\"Multiple-plots-7.8\"><span class=\"toc-item-num\">7.8&nbsp;&nbsp;</span>Multiple plots</a></span></li><li><span><a href=\"#Defining-a-font-style\" data-toc-modified-id=\"Defining-a-font-style-7.9\"><span class=\"toc-item-num\">7.9&nbsp;&nbsp;</span>Defining a font style</a></span></li><li><span><a href=\"#Adding-text-to-a-graph\" data-toc-modified-id=\"Adding-text-to-a-graph-7.10\"><span class=\"toc-item-num\">7.10&nbsp;&nbsp;</span>Adding text to a graph</a></span></li><li><span><a href=\"#Other-plots\" data-toc-modified-id=\"Other-plots-7.11\"><span class=\"toc-item-num\">7.11&nbsp;&nbsp;</span>Other plots</a></span></li><li><span><a href=\"#Handling-axes\" data-toc-modified-id=\"Handling-axes-7.12\"><span class=\"toc-item-num\">7.12&nbsp;&nbsp;</span>Handling axes</a></span></li><li><span><a href=\"#Histograms\" data-toc-modified-id=\"Histograms-7.13\"><span class=\"toc-item-num\">7.13&nbsp;&nbsp;</span>Histograms</a></span></li></ul></li></ul></div>"
   ]
  },
  {
   "cell_type": "markdown",
   "metadata": {},
   "source": [
    " <br> <font color = blue size=10>Python Programming - Part II of III</font> "
   ]
  },
  {
   "cell_type": "markdown",
   "metadata": {},
   "source": [
    "# Comparisons - Truth and Falsehood"
   ]
  },
  {
   "cell_type": "markdown",
   "metadata": {},
   "source": [
    "Logical operators are useful when combined with flow control, as they allow a program to search for truth/falsehood when making complex choices. "
   ]
  },
  {
   "cell_type": "code",
   "execution_count": null,
   "metadata": {},
   "outputs": [],
   "source": [
    "6<10 # asking the question"
   ]
  },
  {
   "cell_type": "code",
   "execution_count": null,
   "metadata": {},
   "outputs": [],
   "source": [
    "8>10 # asking the question"
   ]
  },
  {
   "cell_type": "code",
   "execution_count": null,
   "metadata": {},
   "outputs": [],
   "source": [
    "5==10 # Is 5=10?"
   ]
  },
  {
   "cell_type": "code",
   "execution_count": null,
   "metadata": {},
   "outputs": [],
   "source": [
    "10!=6 # 10 is not equal to 6"
   ]
  },
  {
   "cell_type": "markdown",
   "metadata": {},
   "source": [
    "True and False are (the only) two values of a special Python type called a “Boolean” used for recording whether something is true or not. In any code, further choices depend on the outcome of this test. \n",
    "Just as the “+” operator takes two integers and returns an integer value, the “<” operator takes two integers and returns a Boolean; **bool** for short."
   ]
  },
  {
   "cell_type": "code",
   "execution_count": null,
   "metadata": {},
   "outputs": [],
   "source": [
    "type(True)"
   ]
  },
  {
   "cell_type": "code",
   "execution_count": null,
   "metadata": {},
   "outputs": [],
   "source": [
    "type(10==10)"
   ]
  },
  {
   "cell_type": "markdown",
   "metadata": {},
   "source": [
    "## Six comparison operators\n",
    "<img src='./img/comparison.png' width=600>\n",
    "A common question in maths is to test if $x\\in{(a,b)}$. Suppose we wish to test in Python if a number lies in the open interval 0 and 10. So suppose that number is 4"
   ]
  },
  {
   "cell_type": "code",
   "execution_count": null,
   "metadata": {},
   "outputs": [],
   "source": [
    "number=4\n",
    "0<number<10"
   ]
  },
  {
   "cell_type": "markdown",
   "metadata": {},
   "source": [
    "We can also consider alphabetical ordering e.g."
   ]
  },
  {
   "cell_type": "code",
   "execution_count": null,
   "metadata": {},
   "outputs": [],
   "source": [
    "\"dig\"<\"dog\" # what will this tell us about 'o' compared to 'i' ?"
   ]
  },
  {
   "cell_type": "code",
   "execution_count": null,
   "metadata": {},
   "outputs": [],
   "source": [
    "\"digg\">\"dig\""
   ]
  },
  {
   "cell_type": "markdown",
   "metadata": {},
   "source": [
    "## Boolean arithmetic\n",
    "Boolean types have their own arithmetic just like ordinary numbers. Numbers have arithmetic operations +, –, $\\times$, $\\div$. What operations do Booleans have?\n",
    "The first operation is the **and** operator."
   ]
  },
  {
   "cell_type": "markdown",
   "metadata": {},
   "source": [
    "True **and** True $\\longrightarrow$ True \n",
    "\n",
    "True **and** False $\\longrightarrow$ False \n",
    "\n",
    "False **and** True $\\longrightarrow$ False \n",
    "\n",
    "False **and** False $\\longrightarrow$ False\n",
    "\n",
    "The **and** of two booleans values is True if (and only if) both its inputs are True. If either is False then its output is False. We see that the **and** condition is strong.\n",
    "\n",
    "**Examples**"
   ]
  },
  {
   "cell_type": "code",
   "execution_count": null,
   "metadata": {},
   "outputs": [],
   "source": [
    "5 < 10 and 6 >8"
   ]
  },
  {
   "cell_type": "markdown",
   "metadata": {},
   "source": [
    "Let's see what's happening here. 5 < 10 $\\longrightarrow$ True **and** 6 < 8 $\\longrightarrow$ True, hence the result is True."
   ]
  },
  {
   "cell_type": "code",
   "execution_count": null,
   "metadata": {},
   "outputs": [],
   "source": [
    "5!=10 and 6 > 8\n"
   ]
  },
  {
   "cell_type": "markdown",
   "metadata": {},
   "source": [
    "A similar breakdown gives 5$\\neq$10 $\\longrightarrow$ True **and** 6 > 8 $\\longrightarrow$ False, hence the result is False."
   ]
  },
  {
   "cell_type": "markdown",
   "metadata": {},
   "source": [
    "Now look at the **or** operator\n",
    "\n",
    "True **or** True $\\longrightarrow$ True \n",
    "\n",
    "True **or** False $\\longrightarrow$ True \n",
    "\n",
    "False **or** True $\\longrightarrow$ True \n",
    "\n",
    "False **or** False $\\longrightarrow$ False\n",
    "\n",
    "The results of this operation is True if either of its inputs are True and False only if both its inputs are False.The **or** condition is weaker than **and**.\n",
    "\n",
    "**Examples**"
   ]
  },
  {
   "cell_type": "code",
   "execution_count": null,
   "metadata": {},
   "outputs": [],
   "source": [
    "5 < 10 or 6 < 8 # This reduces to 'True or True'"
   ]
  },
  {
   "cell_type": "code",
   "execution_count": null,
   "metadata": {},
   "outputs": [],
   "source": [
    "5!=10 or 6 > 8 # This reduces to 'True or False'"
   ]
  },
  {
   "cell_type": "code",
   "execution_count": null,
   "metadata": {},
   "outputs": [],
   "source": [
    "5==10 or 6 > 8 # This reduces to 'False or False'"
   ]
  },
  {
   "cell_type": "markdown",
   "metadata": {},
   "source": [
    "The final operation is **not**. This takes only one input and “flips” it. True becomes False and vice versa.\n",
    "\n",
    "**not** True $\\longrightarrow$ False \n",
    "\n",
    "**not** False $\\longrightarrow$ True \n",
    "\n",
    "**Examples**\n"
   ]
  },
  {
   "cell_type": "code",
   "execution_count": null,
   "metadata": {},
   "outputs": [],
   "source": [
    "not 6>7 # evaluates to not False"
   ]
  },
  {
   "cell_type": "code",
   "execution_count": null,
   "metadata": {},
   "outputs": [],
   "source": [
    "not 5!=10 # evaluates to not True"
   ]
  },
  {
   "cell_type": "markdown",
   "metadata": {},
   "source": [
    "Have a look at the next interesting example"
   ]
  },
  {
   "cell_type": "code",
   "execution_count": null,
   "metadata": {},
   "outputs": [],
   "source": [
    "(5<6) or (3==4) and (2>3)"
   ]
  },
  {
   "cell_type": "markdown",
   "metadata": {},
   "source": [
    "This brings us on to the subject of precedence of operators"
   ]
  },
  {
   "cell_type": "markdown",
   "metadata": {},
   "source": [
    "We have seen three examples of logical operators. The precedence of logical operators is even less than that of comparison operators. Here's the order\n",
    "\n",
    "<img src='./img/precedence.png' width=750>"
   ]
  },
  {
   "cell_type": "markdown",
   "metadata": {},
   "source": [
    "**Short circuiting** or short circuit logic is a process (supported by Python) when a program is running, and it hits a conditional.\n",
    "\n",
    "**or**: When an **or** expression is evaluated in Python, the first statement is checked, if true, then Python returns that object’s value without checking the second statement. The program does not bother with the second statement. If on the other hand the first value returns false, only then will Python check the second statement, then the result is based on the second half.\n",
    "\n",
    "**and**: For an **and** expression, Python uses a short circuit technique to check if the first statement is false then the whole statement must be false, so it returns that value. Only if the first value returns true, it checks the second statement and returns the value.\n",
    "\n",
    "An expression containing **and** and **or** stops execution when the truth value of expression has been achieved. Evaluation takes place from left to right.\n"
   ]
  },
  {
   "cell_type": "markdown",
   "metadata": {},
   "source": [
    "**Exercises:** Predict whether these expressions will evaluate to True or False. Then try them.\n",
    "\n",
    "1. \"sparrow\" > \"eagle\"\n",
    "2. \"dog\" < \"Cat\" or 45 % 3 == 15\n",
    "3. 60 - 45 / 5 + 10 == 1"
   ]
  },
  {
   "cell_type": "markdown",
   "metadata": {},
   "source": [
    "Predict the outcome in the following numerical examples and then run. (**You can switch from Markdown to code**)"
   ]
  },
  {
   "cell_type": "code",
   "execution_count": null,
   "metadata": {},
   "outputs": [],
   "source": [
    "(6 <= 6) and (5 < 3)"
   ]
  },
  {
   "cell_type": "code",
   "execution_count": null,
   "metadata": {},
   "outputs": [],
   "source": [
    "(6 <= 6) or (5 < 3)"
   ]
  },
  {
   "cell_type": "code",
   "execution_count": null,
   "metadata": {},
   "outputs": [],
   "source": [
    "(5 < 3) and (6 <= 6) or (5 != 6)"
   ]
  },
  {
   "cell_type": "code",
   "execution_count": null,
   "metadata": {},
   "outputs": [],
   "source": [
    "not((5 < 3) and ((6 <= 6) or (5 != 6)))"
   ]
  },
  {
   "cell_type": "markdown",
   "metadata": {},
   "source": [
    "The operation of modifying a value is so common, most languages have short-cuts in their syntax to make the operations shorter to write. These operations are called “augmented assignments”.\n",
    "This sort of short-cut for an operation which could already be written in the language is sometimes called “syntactic sugar”. \n",
    "***\n",
    "<img src='./img/sugar.png' width=500>"
   ]
  },
  {
   "cell_type": "markdown",
   "metadata": {},
   "source": [
    "# Other data structures"
   ]
  },
  {
   "cell_type": "markdown",
   "metadata": {},
   "source": [
    "Python has several built-in data types. They can broadly be classified as either sequential or non-sequential. Strings have been discussed earlier. A sequence data type, allows organising values in an efficient manner and it accesses the data sequentially. A non-sequential data type is a data type, which accesses the data in a non-sequential manner.\n",
    "\n",
    "The sequential data types are: \n",
    "1. String \n",
    "2. List \n",
    "3. Tuple \n",
    "\n",
    "The non sequential data types are: \n",
    "1. Dictionary \n",
    "2. Set  "
   ]
  },
  {
   "cell_type": "markdown",
   "metadata": {},
   "source": [
    "## Lists\n",
    "The new python type we are going to meet is called a List. \n",
    "Lists are **compound** data types. This means they are sequences of values, very similar to strings, except that each element can be of any type – they are heterogeneous. The syntax for creating a list is [....] where each element is separated with a ,\n",
    "['American','Asian','Bermudan','Binary', ...]\n",
    "[3.141592653589793,1.5707963267948966, 0.0]\n",
    "\n",
    "The contents of a list need not be unique (allowing repitition). Programs usually don’t operate on single values, but on whole collections of them.\n",
    "Lists are **mutable**. This means their contents can be changed once created; i.e. as more statements are interpreted. \n",
    "### What is a list?\n",
    "Consider the first list above (more lengthier)\n",
    "American, Asian, Bermudan, Binary, Cliquet, Lookback, Parisian, Passport, ... , Vanilla\n",
    "\n",
    "*A sequence of values* - the names of option's contracts\n",
    "\n",
    "*Values stored in order* - alphabetic\n",
    "\n",
    "*Individual value identified by position in the sequence* - \"Binary\" is the name of the element number 3 in the list (remember numering starts at 0).\n",
    "\n",
    "How can we create that list?"
   ]
  },
  {
   "cell_type": "code",
   "execution_count": null,
   "metadata": {},
   "outputs": [],
   "source": [
    "options=[\"American\",'Asian','Bermudan','Binary','Binary'] # can also use \" or combination \n",
    "options"
   ]
  },
  {
   "cell_type": "code",
   "execution_count": null,
   "metadata": {},
   "outputs": [],
   "source": [
    "options[0]=\"Black Scholes\"\n",
    "options"
   ]
  },
  {
   "cell_type": "code",
   "execution_count": null,
   "metadata": {},
   "outputs": [],
   "source": [
    "angles= [3.141592653589793,1.5707963267948966, 0.0]\n",
    "angles"
   ]
  },
  {
   "cell_type": "markdown",
   "metadata": {},
   "source": [
    "primes=[2,3,5,7,11,13,17,23,29]\n",
    "\n",
    "*A sequence of values* - the prime numbers less than 30\n",
    "\n",
    "*Values stored in order* - numerical order\n",
    "\n",
    "*Individual value identified by position in the sequence* - 17 is the element number six."
   ]
  },
  {
   "cell_type": "markdown",
   "metadata": {},
   "source": [
    "**Sorting a list**"
   ]
  },
  {
   "cell_type": "markdown",
   "metadata": {},
   "source": [
    "A list can be sorted using `sorted()`. It will arrange alphbetically and numerically. Consider two such lists respectively "
   ]
  },
  {
   "cell_type": "code",
   "execution_count": null,
   "metadata": {},
   "outputs": [],
   "source": [
    "names = ['Sam', 'Ben', 'Paul', 'Jeff', 'Riaz', 'Anna', 'Mike', 'Laura', 'Michelle']\n",
    "print(names)"
   ]
  },
  {
   "cell_type": "code",
   "execution_count": null,
   "metadata": {},
   "outputs": [],
   "source": [
    "print(sorted(names)) # sort and print\n",
    "# or create a new list of alphabetically arranged names\n",
    "new_names=sorted(names)\n",
    "print(new_names)"
   ]
  },
  {
   "cell_type": "code",
   "execution_count": null,
   "metadata": {},
   "outputs": [],
   "source": [
    "numbers=['23','18','54','52','82','58','30','59']\n",
    "print(numbers) \n",
    "# now arrange numerically\n",
    "sorted(numbers)"
   ]
  },
  {
   "cell_type": "markdown",
   "metadata": {},
   "source": [
    "The function takes more than parameter. The previous have been examples of ascending order, which is the default case. The second function allows us to change to descending"
   ]
  },
  {
   "cell_type": "code",
   "execution_count": null,
   "metadata": {},
   "outputs": [],
   "source": [
    "print(sorted(names, reverse=True))\n",
    "print(sorted(numbers, reverse=True))"
   ]
  },
  {
   "cell_type": "markdown",
   "metadata": {},
   "source": [
    "**List of irrationals**"
   ]
  },
  {
   "cell_type": "code",
   "execution_count": null,
   "metadata": {},
   "outputs": [],
   "source": [
    "from math import *\n",
    "import math as m"
   ]
  },
  {
   "cell_type": "code",
   "execution_count": null,
   "metadata": {},
   "outputs": [],
   "source": [
    "irrationals=[exp(1.0),sqrt(2),pi]\n",
    "print(type(irrationals))"
   ]
  },
  {
   "cell_type": "code",
   "execution_count": null,
   "metadata": {},
   "outputs": [],
   "source": [
    "print(irrationals)\n",
    "sorted(irrationals) # sorted function works with reals too"
   ]
  },
  {
   "cell_type": "code",
   "execution_count": null,
   "metadata": {},
   "outputs": [],
   "source": [
    "irrationals[0]=sqrt(12)\n",
    "print(irrationals)"
   ]
  },
  {
   "cell_type": "markdown",
   "metadata": {},
   "source": [
    "Here's a list of mixed objects, i.e. elements of dfferent types"
   ]
  },
  {
   "cell_type": "code",
   "execution_count": null,
   "metadata": {},
   "outputs": [],
   "source": [
    "mixed=[\"hello\", sqrt(3), 4]\n",
    "print(mixed)\n",
    "type(mixed) # mixed is still a type list"
   ]
  },
  {
   "cell_type": "code",
   "execution_count": null,
   "metadata": {},
   "outputs": [],
   "source": [
    "sorted(mixed) # doesn't work!"
   ]
  },
  {
   "cell_type": "markdown",
   "metadata": {},
   "source": [
    "We can count from the end – indexing from the back"
   ]
  },
  {
   "cell_type": "code",
   "execution_count": null,
   "metadata": {},
   "outputs": [],
   "source": [
    "primes = [ 2, 3, 5, 7, 11, 13, 17, 19]\n",
    "primes[-1]"
   ]
  },
  {
   "cell_type": "markdown",
   "metadata": {},
   "source": [
    "We can reverse the list using the reverse() method. This will change the original object/list"
   ]
  },
  {
   "cell_type": "code",
   "execution_count": null,
   "metadata": {},
   "outputs": [],
   "source": [
    "primes.reverse()\n",
    "primes"
   ]
  },
  {
   "cell_type": "markdown",
   "metadata": {},
   "source": [
    "We can also create a list using <font color = blue> for </font>. Consider a list of square roots"
   ]
  },
  {
   "cell_type": "code",
   "execution_count": null,
   "metadata": {},
   "outputs": [],
   "source": [
    "import math as m\n",
    "t=[m.sqrt(x) for x in range(10)]\n",
    "# print will do so in row form\n",
    "print(t)\n",
    "print(type(t))"
   ]
  },
  {
   "cell_type": "markdown",
   "metadata": {},
   "source": [
    "### Inserting element using list methods I\n",
    "List methods are an alternative, more readable way of inserting elements.\n",
    "**append()** adds an element to the end of a list"
   ]
  },
  {
   "cell_type": "code",
   "execution_count": null,
   "metadata": {},
   "outputs": [],
   "source": [
    "top_university=['Cambridge','Oxford']\n",
    "top_university.append('UCL')\n",
    "top_university"
   ]
  },
  {
   "cell_type": "markdown",
   "metadata": {},
   "source": [
    "**extend()** appends all elements of another list\n"
   ]
  },
  {
   "cell_type": "code",
   "execution_count": null,
   "metadata": {},
   "outputs": [],
   "source": [
    "top_university.extend(['Glasgow', 'Edinburgh'])\n",
    "top_university"
   ]
  },
  {
   "cell_type": "markdown",
   "metadata": {},
   "source": [
    "**insert(i, x)** inserts x before ith element:"
   ]
  },
  {
   "cell_type": "code",
   "execution_count": null,
   "metadata": {},
   "outputs": [],
   "source": [
    "top_university.insert(0,'Peking')\n",
    "top_university"
   ]
  },
  {
   "cell_type": "markdown",
   "metadata": {},
   "source": [
    "### Further insertion using list methods\n",
    "**pop(i)** removes and returns the $i^{th}$ element. If pop() is called with no arguments, it removes the last element of the list. The **del** statement can also be used to delete elements of a list, or the entire list."
   ]
  },
  {
   "cell_type": "code",
   "execution_count": null,
   "metadata": {},
   "outputs": [],
   "source": [
    "more=['Cambridge','Oxford', 'Harvard', 'MIT']\n",
    "more.pop(2)\n",
    "print(more)"
   ]
  },
  {
   "cell_type": "code",
   "execution_count": null,
   "metadata": {},
   "outputs": [],
   "source": [
    "more.remove('MIT') # this method removes the required element\n",
    "more"
   ]
  },
  {
   "cell_type": "code",
   "execution_count": null,
   "metadata": {},
   "outputs": [],
   "source": [
    "more.pop() # zero argument removes last element of list\n",
    "more"
   ]
  },
  {
   "cell_type": "code",
   "execution_count": null,
   "metadata": {},
   "outputs": [],
   "source": [
    "del more[0]\n",
    "more"
   ]
  },
  {
   "cell_type": "code",
   "execution_count": null,
   "metadata": {},
   "outputs": [],
   "source": [
    "del more # a complete list can be deleted\n",
    "more"
   ]
  },
  {
   "cell_type": "markdown",
   "metadata": {},
   "source": [
    "To determine the length of a list; the earlier function **len** used for strings, can be used here."
   ]
  },
  {
   "cell_type": "code",
   "execution_count": null,
   "metadata": {},
   "outputs": [],
   "source": [
    "primes = [ 2, 3, 5, 7, 11, 13, 17, 19] # index runs from 0 to 7 incl.\n",
    "len(primes)"
   ]
  },
  {
   "cell_type": "markdown",
   "metadata": {},
   "source": [
    "## Tuples\n",
    "**Tuples** are like lists, except that they cannot be modified once created, that is they are **immutable**. They can be thought of as lightweight, fast data structures. In Python, tuples, are easily created using the syntax (..., ..., ...), or even ..., ..."
   ]
  },
  {
   "cell_type": "code",
   "execution_count": null,
   "metadata": {},
   "outputs": [],
   "source": [
    "point=(4,5)\n",
    "print(point,type(point))"
   ]
  },
  {
   "cell_type": "code",
   "execution_count": null,
   "metadata": {},
   "outputs": [],
   "source": [
    "point2=('Riaz','Ahmad')\n",
    "print(point2)\n",
    "print(type(point2))"
   ]
  },
  {
   "cell_type": "code",
   "execution_count": null,
   "metadata": {},
   "outputs": [],
   "source": [
    "from math import *\n",
    "point=(1,\"Red\",pi) # new definition\n",
    "print(point,type(point))"
   ]
  },
  {
   "cell_type": "markdown",
   "metadata": {},
   "source": [
    "**Tuple unpacking** - Tuples can be unpacked by assigning it to a comma-separated list of variables. This means you can assign multiple variables at once e.g. \n"
   ]
  },
  {
   "cell_type": "code",
   "execution_count": null,
   "metadata": {},
   "outputs": [],
   "source": [
    "coordinate = 4, 5, 6, 5 # note tuple defined without brackets\n",
    "x,y,z,t = coordinate\n",
    "#x=4; y=5; z=6 ; t=7 # assignment\n",
    "print(\"x=\",x,'\\t',\"y=\",y,'\\t',\"z=\",z,'\\t', \"t=\",t)"
   ]
  },
  {
   "cell_type": "markdown",
   "metadata": {},
   "source": [
    "Trying to assign a new value to an element in a tuple results in an error."
   ]
  },
  {
   "cell_type": "markdown",
   "metadata": {},
   "source": [
    "Let's look at some of the methods available for tuples"
   ]
  },
  {
   "cell_type": "code",
   "execution_count": null,
   "metadata": {},
   "outputs": [],
   "source": [
    "coordinate.count(5) # this will search for how many times 5 appears in the tuple"
   ]
  },
  {
   "cell_type": "code",
   "execution_count": null,
   "metadata": {},
   "outputs": [],
   "source": [
    "coordinate.count(1) # this will return 0 as 1 is not in the tuple"
   ]
  },
  {
   "cell_type": "markdown",
   "metadata": {},
   "source": [
    "**Another example**"
   ]
  },
  {
   "cell_type": "code",
   "execution_count": null,
   "metadata": {},
   "outputs": [],
   "source": [
    "surname = 'Ahmad', 'Gug', 'Howison', 'Wilmott', 'Howison', 'Smith', 'Dewynne', 'Timoshin', 'Smith', 'Germano', 'Smith'\n",
    "surname"
   ]
  },
  {
   "cell_type": "code",
   "execution_count": null,
   "metadata": {},
   "outputs": [],
   "source": [
    "surname.count('Smith')"
   ]
  },
  {
   "cell_type": "code",
   "execution_count": null,
   "metadata": {},
   "outputs": [],
   "source": [
    "surname.index('Ahmad') # returns location of name in brackets"
   ]
  },
  {
   "cell_type": "markdown",
   "metadata": {},
   "source": [
    "## Tuples vs Lists\n",
    "* tuples can be used instead of lists, but they have many fewer functions\n",
    "* but as they cannot be modified then there is no append(), insert() for example\n",
    "\n",
    "So why not just use lists instead of tuples everywhere?\n",
    "* tuples use less space\n",
    "* tuples cannot be modified by accident\n",
    "* tuples can be used as dictionary keys (not being covered)\n",
    "* Function arguments are passed as tuples\n",
    "* Tuples are faster"
   ]
  },
  {
   "cell_type": "markdown",
   "metadata": {},
   "source": [
    "Simpler tuples can be constructed. A one-tuple is created by a comma after the sole element (else a string is initialised)"
   ]
  },
  {
   "cell_type": "code",
   "execution_count": null,
   "metadata": {},
   "outputs": [],
   "source": [
    "city=('London',)\n",
    "print(type(city))"
   ]
  },
  {
   "cell_type": "code",
   "execution_count": null,
   "metadata": {},
   "outputs": [],
   "source": [
    "city=('London') # no comma\n",
    "print(type(city))"
   ]
  },
  {
   "cell_type": "markdown",
   "metadata": {},
   "source": [
    "An empty tuple is denoted by ()"
   ]
  },
  {
   "cell_type": "code",
   "execution_count": null,
   "metadata": {},
   "outputs": [],
   "source": [
    "city=()\n",
    "print(city, type(city))"
   ]
  },
  {
   "cell_type": "code",
   "execution_count": null,
   "metadata": {},
   "outputs": [],
   "source": [
    "len(city)"
   ]
  },
  {
   "cell_type": "markdown",
   "metadata": {},
   "source": [
    "## List to Tuple\n",
    "To convert a list to a tuple, use the function **tuple()**"
   ]
  },
  {
   "cell_type": "code",
   "execution_count": null,
   "metadata": {},
   "outputs": [],
   "source": [
    "stuff=[7,'xyz'] # creat a list\n",
    "type(stuff)"
   ]
  },
  {
   "cell_type": "code",
   "execution_count": null,
   "metadata": {},
   "outputs": [],
   "source": [
    "y=tuple(stuff)\n",
    "type(y)\n",
    "#y\n",
    "#tuple(y)"
   ]
  },
  {
   "cell_type": "code",
   "execution_count": null,
   "metadata": {},
   "outputs": [],
   "source": [
    "list(y) # back to list"
   ]
  },
  {
   "cell_type": "markdown",
   "metadata": {},
   "source": [
    "# Flow control and loops"
   ]
  },
  {
   "cell_type": "markdown",
   "metadata": {},
   "source": [
    "We discussed whitespace earlier and that in all but a few special cases, it is ignored by Python. Python uses white space changes to indicate the start and end of flow control blocks, and so indentation is important. Here the for loop is the most important control structure.\n",
    "\n",
    "For example, when using <span style=\"color:blue\">if . . . elif . . . else </span> blocks, all of the control blocks must have the same indentation level and all of the statements inside the control blocks should have the same level of indentation; or Python will return an error.\n",
    "Returning to the previous indentation level instructs Python that the block is complete. Best\n",
    "practice is to only use spaces (and not tabs) and to use 4 spaces when starting a new level of indentation which represents a sensible balance between readability and wasted space. \n",
    "In Python, loops can be programmed in a number of different ways. The most common is the for loop,\n",
    "which is used together with iterable objects, such as lists (or built-in functions e.g. range()).\n",
    "\n",
    "## The mechanics and counting example"
   ]
  },
  {
   "cell_type": "markdown",
   "metadata": {},
   "source": [
    "<img src='./img/mechanics.png' width=650>"
   ]
  },
  {
   "cell_type": "markdown",
   "metadata": {},
   "source": [
    "The loop test is a scalar logical expression, i.e. single valued. It is possible to use arrays\n",
    "containing a single element, however attempting to use an array with more than 1 element results in an error - careful! <span style=\"color:blue\">elif</span> and <span style=\"color:blue\">else</span> are optional and can always be replicated using nested if statements; this comes at the expense of more complex logic and deeper nesting. The generic form of an <span style=\"color:blue\">if . . . elif . . . else</span> block is \n",
    "\n",
    "<span style=\"color:blue\">if</span> logical_1:\n",
    "\n",
    "    Code to run if logical_1 \n",
    "    \n",
    "<span style=\"color:blue\">elif</span> logical_2:\n",
    "\n",
    "    Code to run if logical_2 and not logical_1\n",
    "    \n",
    "<span style=\"color:blue\">elif</span> logical_3:\n",
    "\n",
    "    Code to run if logical_3 and not logical_1 or logical_2\n",
    "    \n",
    "...\n",
    "\n",
    "...\n",
    "\n",
    "<span style=\"color:blue\">else</span>:\n",
    "\n",
    "    Code to run if all previous logicals are false\n",
    " \n",
    "**One has to be careful with the above logic and syntax. Simpler forms of the above are more commonly used, i.e.**\n",
    "\n",
    "<span style=\"color:blue\">if</span> logical:\n",
    "\n",
    "    Code to run if logical true \n",
    "\n",
    "or\n",
    "    \n",
    "<span style=\"color:blue\">if</span> logical:\n",
    "\n",
    "    Code to run if logical true\n",
    "    \n",
    "<span style=\"color:blue\">else</span> logical:\n",
    "\n",
    "    Code to run if logical false \n",
    "\n",
    "Here are some introductory examples in the use of the above syntax:"
   ]
  },
  {
   "cell_type": "code",
   "execution_count": null,
   "metadata": {},
   "outputs": [],
   "source": [
    "x = int(input(\"Type in a value of x between 0 and 10 (incl.): \"))\n",
    "if x>5:\n",
    "    x += 1\n",
    "    print(x)\n",
    "\n",
    "else:\n",
    "    x-=1\n",
    "    print(x)\n"
   ]
  },
  {
   "cell_type": "markdown",
   "metadata": {},
   "source": [
    "and"
   ]
  },
  {
   "cell_type": "code",
   "execution_count": null,
   "metadata": {},
   "outputs": [],
   "source": [
    "x = int(input(\"Type in a value of x between 0 and 10 (incl.): \"))\n",
    "if x<5:\n",
    "    x += 1\n",
    "elif (x>5):\n",
    "    x-=1\n",
    "else:\n",
    "    x*=2\n",
    "print(x)"
   ]
  },
  {
   "cell_type": "markdown",
   "metadata": {},
   "source": [
    "## While loop\n",
    "The while keyword allows to repeat an operation while a condition is true. "
   ]
  },
  {
   "cell_type": "markdown",
   "metadata": {},
   "source": [
    "<img src='./img/while loop.png' width=600>"
   ]
  },
  {
   "cell_type": "markdown",
   "metadata": {},
   "source": [
    "***\n",
    "***"
   ]
  },
  {
   "cell_type": "markdown",
   "metadata": {},
   "source": [
    "<img src='./img/while loop 2.png' width=650>"
   ]
  },
  {
   "cell_type": "markdown",
   "metadata": {},
   "source": [
    "***\n",
    "***"
   ]
  },
  {
   "cell_type": "markdown",
   "metadata": {},
   "source": [
    "<img src='./img/while loop 3.png' width=650>"
   ]
  },
  {
   "cell_type": "markdown",
   "metadata": {},
   "source": [
    "Here's the code"
   ]
  },
  {
   "cell_type": "code",
   "execution_count": null,
   "metadata": {},
   "outputs": [],
   "source": [
    "number=1  # initialisation\n",
    "while(number<=10):  # reserved word with logical test\n",
    "    print(number) # ....\n",
    "    number+=1     #  ....\n",
    "print(\"Done\") # needs to leave loop so finish indent    "
   ]
  },
  {
   "cell_type": "markdown",
   "metadata": {},
   "source": [
    "Line 1: start of loop with initial value\n",
    "\n",
    "Line 2: reserved word **while** together that tells Python that there is a loop to follow. It must be directly followed by an expression that evaluates to a Boolean; i.e. a test condition number$\\leq$10 which is a Python expression that evaluates to a boolean, True or False. The test condition is followed by : This indents all subsequent code in the block with 4 spaces.\n",
    "\n",
    "Line 3 and 4: instructions to be executed\n",
    "\n",
    "Line 5: loop has been exited"
   ]
  },
  {
   "cell_type": "markdown",
   "metadata": {},
   "source": [
    "Suppose we'd like to know for how many years we have to keep 100 pounds on a savings account to reach 200 pounds simply due to annual payment of interest at a rate of 5%. Here is a program to compute that this will take 15 years:"
   ]
  },
  {
   "cell_type": "code",
   "execution_count": null,
   "metadata": {},
   "outputs": [],
   "source": [
    "mymoney = 100 # in GBP\n",
    "rate = 1.05 # 5% interest\n",
    "years = 0\n",
    "while mymoney < 300: # repeat until 300 pounds reached\n",
    "    mymoney = mymoney * rate\n",
    "    years+=1\n",
    "print('We need ', years , 'years to reach ', int(mymoney) , 'pounds .')"
   ]
  },
  {
   "cell_type": "markdown",
   "metadata": {},
   "source": [
    "## For loops \n",
    "<span style=\"color:blue\">for</span> loops begin with <span style=\"color:blue\">for</span> item in an iterable object, and the generic structure of a <span style=\"color:blue\">for</span> loop is\n",
    "\n",
    "<span style=\"color:blue\">for</span> item <span style=\"color:blue\">in</span> iterable:\n",
    "    \n",
    "    Code to run\n",
    "item is an element from iterable, and iterable can be anything that is iterable in Python. The most common are *range*, *list*, *tuple*, arrays or matrices. The <span style=\"color:blue\">for</span> loop will iterate across all items in iterable, beginning with item 0 and continuing until the final element.\n",
    "Here's the earlier <span style=\"color:blue\">while</span> loop written as a <span style=\"color:blue\">for</span> loop"
   ]
  },
  {
   "cell_type": "code",
   "execution_count": null,
   "metadata": {},
   "outputs": [],
   "source": [
    "n=10\n",
    "for n in range(1,n+1):  # because upper limit is not included\n",
    "    print(n)\n",
    "print(\"Done\")"
   ]
  },
  {
   "cell_type": "code",
   "execution_count": null,
   "metadata": {},
   "outputs": [],
   "source": [
    "n=int(input('Enter an upper limit: ')) # Sum of squares\n",
    "sum=0\n",
    "for n in range(1,n+1):\n",
    "    sum=sum+n**2\n",
    "    print(n, sum)"
   ]
  },
  {
   "cell_type": "code",
   "execution_count": null,
   "metadata": {},
   "outputs": [],
   "source": [
    "for x in range(4): # by default range starts at 0 and will go up to nearest whole number to 4\n",
    "    print(x)"
   ]
  },
  {
   "cell_type": "code",
   "execution_count": null,
   "metadata": {},
   "outputs": [],
   "source": [
    "for x in range(-3,3):\n",
    "    print(x)"
   ]
  },
  {
   "cell_type": "code",
   "execution_count": null,
   "metadata": {},
   "outputs": [],
   "source": [
    "for word in [\"computational\", \"finance\", \"with\", \"python\"]:\n",
    "    print(word)"
   ]
  },
  {
   "cell_type": "markdown",
   "metadata": {},
   "source": [
    "We can also create a list using the following"
   ]
  },
  {
   "cell_type": "code",
   "execution_count": null,
   "metadata": {},
   "outputs": [],
   "source": [
    "y = [x**3-5*x**2-30*x+4 for x in range(10)]\n",
    "y, type(y)"
   ]
  },
  {
   "cell_type": "markdown",
   "metadata": {},
   "source": [
    "We can also have nested loops for more complicated decision making"
   ]
  },
  {
   "cell_type": "code",
   "execution_count": null,
   "metadata": {},
   "outputs": [],
   "source": [
    "number = 0\n",
    "for i in range(3):\n",
    "    for j in range(3):\n",
    "        number += j\n",
    "        print(number)"
   ]
  },
  {
   "cell_type": "markdown",
   "metadata": {},
   "source": [
    "Now repeat the similar looking code, with removing the indentation level (once and then twice)"
   ]
  },
  {
   "cell_type": "markdown",
   "metadata": {},
   "source": [
    "Flow control statements can also be nested in for loops"
   ]
  },
  {
   "cell_type": "code",
   "execution_count": null,
   "metadata": {},
   "outputs": [],
   "source": [
    "import numpy as np\n",
    "returns = np.random.randn(10)  # generate 10 N(0,1)\n",
    "count = 0\n",
    "for ret in returns:\n",
    "    if ret<0:\n",
    "        count += 1\n",
    "        print(count)"
   ]
  },
  {
   "cell_type": "markdown",
   "metadata": {},
   "source": [
    "A common use of range() is iteration over lists of integers.\n"
   ]
  },
  {
   "cell_type": "markdown",
   "metadata": {},
   "source": [
    "# Operating system and File management\n"
   ]
  },
  {
   "cell_type": "markdown",
   "metadata": {},
   "source": [
    "The OS module in Python provides a robust way of accessing operating system dependent functionality using OOP techniques; as well as manipulating files and directories. The methods that the os module provides, allows interfacing with the underlying operating system that Python is running on, i.e. Windows, Mac or Linux. This gives the user greater control over the environment - types of handling are\n",
    "* navigate the file system\n",
    "* get file infomation\n",
    "* look up and change environment variables \n",
    "* move files around\n",
    "\n",
    "The most important file system commands are located in the modules **os** and **shutil**. "
   ]
  },
  {
   "cell_type": "markdown",
   "metadata": {},
   "source": [
    "<img src='./img/os.png' width=550>"
   ]
  },
  {
   "cell_type": "markdown",
   "metadata": {},
   "source": [
    "So start by importing the os module. This is a built-in module, meaning we do not have to install any third party library."
   ]
  },
  {
   "cell_type": "markdown",
   "metadata": {},
   "source": [
    "## Getting started"
   ]
  },
  {
   "cell_type": "code",
   "execution_count": null,
   "metadata": {},
   "outputs": [],
   "source": [
    "import os"
   ]
  },
  {
   "cell_type": "markdown",
   "metadata": {},
   "source": [
    "Something useful when working with new modules or navigating unfamiliar enironments is to print out the built-in ** dir** function and pass in the module you are working with. This lists all attributes/methods we have access to within this module. "
   ]
  },
  {
   "cell_type": "code",
   "execution_count": null,
   "metadata": {},
   "outputs": [],
   "source": [
    "print(dir(os)) # running this shows many methods"
   ]
  },
  {
   "cell_type": "markdown",
   "metadata": {},
   "source": [
    "Let's print out the path name of the current directory we are , using the getcwd() method (current working directory)"
   ]
  },
  {
   "cell_type": "code",
   "execution_count": null,
   "metadata": {},
   "outputs": [],
   "source": [
    "print(os.getcwd())"
   ]
  },
  {
   "cell_type": "markdown",
   "metadata": {},
   "source": [
    "Suppose I have file on **desktop** which I wish to access, then using a change directory function allows us to modify the directory "
   ]
  },
  {
   "cell_type": "code",
   "execution_count": null,
   "metadata": {},
   "outputs": [],
   "source": [
    "os.chdir('C:/Users/rahmad/Desktop') # note the use of / and pathname passed as a string"
   ]
  },
  {
   "cell_type": "markdown",
   "metadata": {},
   "source": [
    "We are now in the Desktop directory. Let's make sure we are where we think we are see what files I have on desktop"
   ]
  },
  {
   "cell_type": "code",
   "execution_count": null,
   "metadata": {},
   "outputs": [],
   "source": [
    "print(os.getcwd())"
   ]
  },
  {
   "cell_type": "markdown",
   "metadata": {},
   "source": [
    "So we are in the correct place, now print out the current working directory"
   ]
  },
  {
   "cell_type": "code",
   "execution_count": null,
   "metadata": {},
   "outputs": [],
   "source": [
    "print(os.listdir('C:/Users/rahmad/Desktop'))"
   ]
  },
  {
   "cell_type": "markdown",
   "metadata": {},
   "source": [
    "Suppose we wish to create a new folder on desktop, e.g work"
   ]
  },
  {
   "cell_type": "code",
   "execution_count": null,
   "metadata": {},
   "outputs": [],
   "source": [
    "os.mkdir('work')"
   ]
  },
  {
   "cell_type": "code",
   "execution_count": null,
   "metadata": {},
   "outputs": [],
   "source": [
    "os.rmdir('work')"
   ]
  },
  {
   "cell_type": "markdown",
   "metadata": {},
   "source": [
    "This has now created a folder called *work* on the desktop. Executing that cell again will return an error message as the folder already exists. So use of the command **mkdir** creates a single level folder at the required directory. Suppose we want more levels in our directory e.g within work a subfolder called accounts and within accounts a further subfolder charity? Then use the the command **makedirs**. Let's do this (remember to delete the folder work)."
   ]
  },
  {
   "cell_type": "code",
   "execution_count": null,
   "metadata": {},
   "outputs": [],
   "source": [
    "os.makedirs('maths/analysis/complex/problem sheets')"
   ]
  },
  {
   "cell_type": "code",
   "execution_count": null,
   "metadata": {},
   "outputs": [],
   "source": [
    "os.removedirs('maths/analysis/complex/problem sheets')\n"
   ]
  },
  {
   "cell_type": "markdown",
   "metadata": {},
   "source": [
    "Suppose we wished to remove a sub-directory? We use the earlier method rmdir"
   ]
  },
  {
   "cell_type": "code",
   "execution_count": null,
   "metadata": {},
   "outputs": [],
   "source": [
    "os.rmdir('maths/analysis/complex/problem sheets')"
   ]
  },
  {
   "cell_type": "markdown",
   "metadata": {},
   "source": [
    "**Renaming a file or folder**\n",
    "To do this we use the method rename, so \n",
    "\n",
    "os.rename('old filename', 'new filename')\n",
    "\n",
    "On my desktop I have a file called Sample.txt; I am going to rename it Mary had a Lamb.txt\n",
    "I am already working in that directory so just need the old name and new name."
   ]
  },
  {
   "cell_type": "code",
   "execution_count": null,
   "metadata": {},
   "outputs": [],
   "source": [
    "os.rename('sample.txt', 'riaz.txt')"
   ]
  },
  {
   "cell_type": "markdown",
   "metadata": {},
   "source": [
    "# User Defined Functions  $y=f(x)$ "
   ]
  },
  {
   "cell_type": "markdown",
   "metadata": {},
   "source": [
    "## Functions we have met and will meet\n",
    "<html>\n",
    "<body>\n",
    "\n",
    "<table style=\"width:90%\">\n",
    "  <tr>\n",
    "    <td>input</td>\n",
    "    <td>type</td>\n",
    "    <td>float</td>\n",
    "    <td>range</td>\n",
    "  </tr>\n",
    "  <tr>\n",
    "    <td>len</td>\n",
    "    <td>ord</td>\n",
    "    <td>int</td>\n",
    "    <td>str</td>\n",
    "  </tr>\n",
    "  <tr>\n",
    "    <td>open</td>\n",
    "    <td>chr</td>\n",
    "    <td>iter</td>\n",
    "    <td></td>\n",
    "  </tr>\n",
    "  <tr>\n",
    "  <td>print</td>\n",
    "    <td>bool</td>\n",
    "    <td>list</td>\n",
    "    <td></td>\n",
    "  </tr>\n",
    "</table>\n",
    "\n",
    "</body>\n",
    "</html>\n"
   ]
  },
  {
   "cell_type": "markdown",
   "metadata": {},
   "source": [
    "### Why write our own functions\n",
    "Easier to\n",
    "* read\n",
    "* write\n",
    "* test \n",
    "* fix \n",
    "* improve\n",
    "* add to \n",
    "* develop\n",
    "\n",
    "This is the essence of structured programming."
   ]
  },
  {
   "cell_type": "markdown",
   "metadata": {},
   "source": [
    "The basic rule of thumb of any programming language is “Don’t Repeat yourself”\n",
    "(https://en.wikipedia.org/wiki/Don%27t_repeat_yourself). \n",
    "\n",
    "If an action is to be carried out many times, define that operation once and then call that segment of code as many times as is needed. This is why functions are so important for efficient coding.\n"
   ]
  },
  {
   "cell_type": "markdown",
   "metadata": {},
   "source": [
    "### User Defined Functions\n",
    "A natural way to solve large problems is to break them down into a series of sub-problems, which can be solved independently and then combined to arrive at a complete solution. \n",
    "In programming, this methodology reflects itself in the use of sub-programs, and in Python all sub-programs are called functions. A function is executed by being called from within another function or main body of the program.<br><br>We now write our own functions. A function in Python is defined using the keyword **def**, followed by a function name, a signature within parentheses **()**, and a colon **:** Parameters are local variables; this means they will have no affect outside of the function.\n",
    "The following code, with one additional level of indentation, is the function body."
   ]
  },
  {
   "cell_type": "markdown",
   "metadata": {},
   "source": [
    "***"
   ]
  },
  {
   "cell_type": "code",
   "execution_count": null,
   "metadata": {},
   "outputs": [],
   "source": [
    "def PrintThis(string): #basic syntax for function header\n",
    "    print(string) #function definition; note the indent caused by earlier :\n",
    "    return None\n",
    "    \n",
    "# main body - no indents here\n",
    "message=input(\"Enter some message here\")\n",
    "#PrintThis(\"hello, world \") # function call with single argument\n",
    "PrintThis(message)"
   ]
  },
  {
   "cell_type": "markdown",
   "metadata": {},
   "source": [
    "### Writing a simple maths function"
   ]
  },
  {
   "cell_type": "code",
   "execution_count": null,
   "metadata": {},
   "outputs": [],
   "source": [
    "def square(x):\n",
    "    return x**2\n",
    "# Call the function\n",
    "x = 2\n",
    "y = square(x)\n",
    "print(x,y)"
   ]
  },
  {
   "cell_type": "markdown",
   "metadata": {},
   "source": [
    "### A factorial function"
   ]
  },
  {
   "cell_type": "code",
   "execution_count": null,
   "metadata": {},
   "outputs": [],
   "source": [
    "def factorial(n):\n",
    "    factorial = 1 # base case\n",
    "    for n in range(1,n+1): # remember for loop requires an indent\n",
    "            factorial=factorial*n\n",
    "     # print out factorial here\n",
    "    return factorial\n",
    "\n",
    "n=int(input(\"enter an integer value: \"))\n",
    "\n",
    "print(\"factorial of \", n, \"is \",factorial(n))\n"
   ]
  },
  {
   "cell_type": "code",
   "execution_count": null,
   "metadata": {},
   "outputs": [],
   "source": [
    "def factorial(n):\n",
    "    num = 1\n",
    "    while n >= 1:\n",
    "        num = num * n\n",
    "        n = n - 1\n",
    "        \n",
    "    return num\n",
    "\n",
    "answer=factorial(4)\n",
    "print(answer)"
   ]
  },
  {
   "cell_type": "markdown",
   "metadata": {},
   "source": [
    "**Note:** Note the syntax and structure to define a function:\n",
    "* the **def** keyword;\n",
    "* is followed by the function’s name, then\n",
    "* the arguments of the function are given between parentheses followed by a colon.\n",
    "* the function body;\n",
    "* and return object for optionally returning values.\n"
   ]
  },
  {
   "cell_type": "markdown",
   "metadata": {},
   "source": [
    "### Approximating a Cumulative Distribution Function (CDF) \n",
    "A random variable $X\\sim{N(0,1)}$ has CDF \n",
    "$$ N(x)=\\mathbb{P}(X\\leq x)=\\frac{1}{\\sqrt{2\\pi}}\\int_{-\\infty}^{x} e^{-s^2} ds$$\n",
    "<img src='./img/cdf.png' width=650>"
   ]
  },
  {
   "cell_type": "markdown",
   "metadata": {},
   "source": [
    "We can approximate this improper integral by using the numerical scheme which is accurate to 6 decimal places\n",
    "$$\n",
    "N\\left(  x\\right)  =\\left\\{\n",
    "\\begin{array}\n",
    "[c]{c}%\n",
    "1-n\\left(  x\\right)  \\left(  {a_1k+a_2k^2+a_3k^3+a_4k^4+a_5k^5}\\right) \\\\\n",
    "1-N\\left(  -x\\right)\n",
    "\\end{array}\n",
    "\\right.  \\left.\n",
    "\\begin{array}\n",
    "[c]{c}%\n",
    "x\\geq0\\\\\n",
    "x<0\n",
    "\\end{array}\n",
    "\\right.\n",
    "$$\n"
   ]
  },
  {
   "cell_type": "markdown",
   "metadata": {},
   "source": [
    "where $k=\\frac{1}{1+0.2316419x}$, $a_1=0.319381530$, $a_2=−0.356563782$, $a_3=1.781477937$, $a_4=−1.821255978$, $a_5=1.330274429$ and $$ n(x)=\\frac{1}{\\sqrt{2\\pi}}e^{-x^2}$$"
   ]
  },
  {
   "cell_type": "code",
   "execution_count": null,
   "metadata": {},
   "outputs": [],
   "source": [
    "from math import *\n",
    "def CDF(X):\n",
    "    (a1,a2,a3,a4,a5) = (0.319381530, -0.356563782, 1.781477937, -1.821255978, 1.330274429)\n",
    "    x=abs(X)\n",
    "    k=1/(1+0.2316419*x)\n",
    "    n=(1/sqrt(2*pi))*exp(-0.5*x**2)\n",
    "    N=1.0-n*(a1*k+a2*k**2+a3*pow(k,3)+a4*pow(k,4)+a5*pow(k,5))\n",
    "    if X<0:\n",
    "        N=1.0-N\n",
    "    return N\n",
    "\n",
    "X=float(input(\"enter value a real value\\n\"))\n",
    "print(\"The probability that X<\",X, \"is\",CDF(X))"
   ]
  },
  {
   "cell_type": "markdown",
   "metadata": {},
   "source": [
    "### Option pricing\n",
    "The Black-Scholes pricing formula for a call and put, in turn is"
   ]
  },
  {
   "cell_type": "markdown",
   "metadata": {},
   "source": [
    "$$C\\left(S,t\\right)  =Se^{-D(T-t)}N(d_{1})-Ee^{-r(T-t)}N(d_{2})$$\n",
    "and\n",
    "$$ P\\left(S,t\\right)  =-Se^{-D(T-t)}N(-d_{1})+Ee^{-r(T-t)}N(-d_{2})$$\n",
    "\n",
    "where\n",
    "\n",
    "$$d_{1,2}=\\frac{\\log(S/E)+(r-D\\pm\\frac{1}{2}\\sigma^{2})(T-t)}{\\sigma\\sqrt{T-t}%\n",
    "}\\;\\text{with}$$\n",
    "\n",
    "$$d_{2}=d_{1}-\\sigma\\sqrt{T-t}.$$\n",
    "\n",
    "\n",
    "$$N(x)=\\frac{1}{\\sqrt{2\\pi}}\\int_{-\\infty}^{x}e^{-\\frac{1}{2}\\phi^{2}}d\\phi$$ is the cumulative distribution function for the normal distribution."
   ]
  },
  {
   "cell_type": "markdown",
   "metadata": {},
   "source": [
    "In the next program we use the earlier CDF function together with the Black-Scholes formulas to price plain vanillas"
   ]
  },
  {
   "cell_type": "code",
   "execution_count": null,
   "metadata": {},
   "outputs": [],
   "source": [
    "from math import * # this is required for some of the maths functions\n",
    "\n",
    "def CDF(X):\n",
    "    (a1,a2,a3,a4,a5) = (0.319381530, -0.356563782, 1.781477937, -1.821255978, 1.330274429)\n",
    "    x=abs(X)\n",
    "    k=1/(1+0.2316419*x)\n",
    "    n=(1/sqrt(2*pi))*exp(-0.5*x**2)\n",
    "    N=1.0-n*(a1*k+a2*k**2+a3*pow(k,3)+a4*pow(k,4)+a5*pow(k,5))\n",
    "    if X<0:\n",
    "        N=1.0-N\n",
    "    return N\n",
    "#_______________________________________________________________________________________\n",
    "\n",
    "def d1(stock,strike,r,sigma,div,tau):\n",
    "    Moneyness=log(stock/strike,e)\n",
    "    shift=r-div+0.5*sigma**2\n",
    "    d1=(Moneyness+shift*tau)/(sigma*sqrt(tau))\n",
    "    return d1\n",
    "#_______________________________________________________________________________________\n",
    "\n",
    "def d2(d1,sigma,tau):\n",
    "    d2=d1-sigma*sqrt(T-t)\n",
    "    return d2\n",
    "#_______________________________________________________________________________________\n",
    "\n",
    "def call_option(d1,d2,stock,div,strike,r,tau):\n",
    "    call=stock*exp(-div*tau)*CDF(d1)-exp(-r*tau)*strike*CDF(d2)\n",
    "    return call\n",
    "\n",
    "#_______________________________________________________________________________________\n",
    "\n",
    "def put_option(d1,d2,stock,div,strike,r,tau):\n",
    "    put=-stock*exp(-div*tau)*CDF(-d1)+exp(-r*(T-t))*strike*CDF(-d2)\n",
    "    return put\n",
    "#_______________________________________________________________________________________\n",
    "\n",
    "#______________________ MAIN BODY ______________________________________________________\n",
    "\n",
    "stock=float(input(\"Enter the stock price:\"))\n",
    "strike=float(input(\"Enter the strike: \"))\n",
    "r=float(input(\"The risk-free rate is: \"))\n",
    "div=float(input(\"Dividend yield = \"))\n",
    "sigma=float(input(\"What is the volatility? \"))\n",
    "T=float(input(\"Enter the option's expiry: \"))\n",
    "t=float(input(\"t=? \"))\n",
    "tau=T-t\n",
    "d1=d1(stock,strike,r,sigma,div,tau)\n",
    "d2=d2(d1,sigma,tau)\n",
    "\n",
    "print(\"The call has price, \", call_option(d1,d2,stock,div,strike,r,tau))\n",
    "print(\"The put is valued at, \", put_option(d1,d2,stock,div,strike,r,tau))"
   ]
  },
  {
   "cell_type": "markdown",
   "metadata": {},
   "source": [
    "### Lambda Statement $\\lambda$\n",
    "Also known as a **lambda-operator** there are mixed reviews in the use of this. There are instances when we wish to define a function without giving it a specific name, e.g. when we want to use the function only once. In these cases it is convenient to use a lambda-statement - thus allowing the defining of a function that does not have a name; in effect an  'anonymous' function. Consider the following examples"
   ]
  },
  {
   "cell_type": "code",
   "execution_count": null,
   "metadata": {},
   "outputs": [],
   "source": [
    "(lambda x: x**2)(3) # essentially a square of function"
   ]
  },
  {
   "cell_type": "code",
   "execution_count": null,
   "metadata": {},
   "outputs": [],
   "source": [
    "(lambda x, y,z : x + y + z)(1,2,3)\n"
   ]
  },
  {
   "cell_type": "markdown",
   "metadata": {},
   "source": [
    "## Bisection"
   ]
  },
  {
   "cell_type": "code",
   "execution_count": null,
   "metadata": {},
   "outputs": [],
   "source": [
    "import math as math\n",
    "def bisection(f,a,b, tolerance):\n",
    "    for i in range(100):\n",
    "        c=(a+b)/2\n",
    "        if abs(f(c))<tolerance:\n",
    "            return c\n",
    "        if f(a)*f(c)<0:\n",
    "            a=a\n",
    "            b = c # b becomes c\n",
    "        else:\n",
    "            a = c\n",
    "            b = b\n",
    "     \n",
    "    return (a+b)/2\n",
    "\n",
    "#--------------------------# End of bisection function\n",
    "\n",
    "# Now define the function whose root we seek\n",
    "\n",
    "def f(x):\n",
    "    return math.exp(x)-4*x\n",
    "\n",
    "# -------------------------# definition of f(x) \n",
    "\n",
    "# Main Body #\n",
    "tolerance = 1/10**10\n",
    "bisection(f,0,1, tolerance)"
   ]
  },
  {
   "cell_type": "markdown",
   "metadata": {},
   "source": [
    "## Numerical Differentiation\n",
    "Let's look at approximations to both first and second order derivatives"
   ]
  },
  {
   "cell_type": "code",
   "execution_count": null,
   "metadata": {},
   "outputs": [],
   "source": [
    "# first derivative using centered differentiation\n",
    "def f_dash(f,x,dx):\n",
    "    return (f(x+dx)-f(x-dx))/(2*dx)"
   ]
  },
  {
   "cell_type": "code",
   "execution_count": null,
   "metadata": {},
   "outputs": [],
   "source": [
    "# second derivative using centered difference\n",
    "def f_d_dash(f,x,dx):\n",
    "    return (f(x-dx)-2*f(x)+f(x+dx))/(dx**2)"
   ]
  },
  {
   "cell_type": "code",
   "execution_count": null,
   "metadata": {},
   "outputs": [],
   "source": [
    "def function(x):\n",
    "    return math.exp(2*x) # change this to differentiate a different function"
   ]
  },
  {
   "cell_type": "code",
   "execution_count": null,
   "metadata": {},
   "outputs": [],
   "source": [
    "f_dash(function, 1.0, 1/100)"
   ]
  },
  {
   "cell_type": "code",
   "execution_count": null,
   "metadata": {},
   "outputs": [],
   "source": [
    "def function(x):\n",
    "    return 2*x**3"
   ]
  },
  {
   "cell_type": "code",
   "execution_count": null,
   "metadata": {},
   "outputs": [],
   "source": [
    "f_d_dash(function, 2.0, 1/100)"
   ]
  },
  {
   "cell_type": "markdown",
   "metadata": {},
   "source": [
    "# NumPy"
   ]
  },
  {
   "cell_type": "markdown",
   "metadata": {},
   "source": [
    "## Introduction"
   ]
  },
  {
   "cell_type": "markdown",
   "metadata": {},
   "source": [
    "NumPy is a flagship library in the Python suite of modules. It is one of the most important and the first among these libraries of significant use in data analysis, machine learning and scientific computing. It is a core python library and is a fundamental building block of Scikit-Learn, SciPy, Pandas and TensorFlow packages. Nearly five thousand packages have NumPy as a dependency making it a chief reason for the success of Machine Learning in Python.\n",
    "\n",
    "NumPy features can be broadly categorised as:\n",
    "* mathematical functions\n",
    "* `random` submodule\n",
    "* `ndarray` object\n",
    "\n",
    "Datasets can have a wide range of sources and formats, however NumPy encourages us to think all data fundamentally as arrays of numbers. The first step in data preprocessing is making the data analyzable by transforming them into arrays of numbers. \n",
    "\n",
    "Numpy is known for its \n",
    "\n",
    "**Syntax**: compact and vectorized syntax allowing for even 100,000 calculations within a single line of code.<br>\n",
    "**Speed**: faster as the majority of the code is implemented in C.\n",
    "\n",
    "\n"
   ]
  },
  {
   "cell_type": "markdown",
   "metadata": {},
   "source": [
    "In earlier sections we saw some of the useful general data structures provided by Python. Of the set used thus far, list objects (with mutable property) were seen to be the most beneficial. These are a flexible and robust data structure which come at a high memory cost and/or slower performance.  \n",
    "\n",
    "However, scientific, financial and healthcare applications generally have a need for high-performing operations on special data structures, namely the *array*. \n",
    "\n",
    "Arrays generally structure other fundamental objects of the same data type in rows and columns. \n",
    "\n",
    "NumPy allows fast manipulation of multidimensional arrays with the speed of C and developer friendliness of Python. Numpy handles arrays faster than standard python lists and tuples. Arrays can only store objects of the same type. Arrays take less memory space than lists. \n",
    "The numpy package is used in almost all numerical computation using Python. The package provides high-performance vector, matrix and higher-dimensional data structures for Python. Its flagship object is the powerful N – dimensional array, or ndarray. It is used extensively in mathematical modelling, statistics, numerical analysis and data analysis.\n",
    "\n",
    "An array can have any number of dimensions. A 1D array is a *vector*; a 2D array is a *matrix*. So the array is the central structure of NumPy. In computer programming, the **rank** of an array is another way of describing its dimension.\n",
    "\n",
    "A **universal function** (or ufunc) is a function that operates on ndarrays in an element-by-element fashion, supporting array broadcasting, type casting, and several other standard features. \n",
    "\n",
    "Using mathematical functions in the numpy library are often considered more robust than those in the math module. "
   ]
  },
  {
   "cell_type": "code",
   "execution_count": null,
   "metadata": {},
   "outputs": [],
   "source": [
    "#from numpy import * # general way to import or\n",
    "import numpy as np # preferred way\n",
    "np.sqrt(16)"
   ]
  },
  {
   "cell_type": "markdown",
   "metadata": {},
   "source": [
    "or one or more of the following can be used"
   ]
  },
  {
   "cell_type": "code",
   "execution_count": null,
   "metadata": {},
   "outputs": [],
   "source": [
    "from numpy.linalg import* # or"
   ]
  },
  {
   "cell_type": "code",
   "execution_count": null,
   "metadata": {},
   "outputs": [],
   "source": [
    "from numpy.fft import * # or"
   ]
  },
  {
   "cell_type": "code",
   "execution_count": null,
   "metadata": {},
   "outputs": [],
   "source": [
    "from numpy.random import * # and others"
   ]
  },
  {
   "cell_type": "markdown",
   "metadata": {},
   "source": [
    "An array can be created by manual input – this is of course only suitable for very small arrays; lists can also be used in their creation. Functions are available to create arrays of sequences, zeros and ones. And of course loops are another effective way of creating arrays. \n",
    "\n",
    "The most basic numpy data type. Matrices are specialised 2-D arrays.Types int, float, complex forms available. For example\n",
    "$$A=\\left( \n",
    "\\begin{array}{ccc}\n",
    "a & b & c \\\\ \n",
    "d & e & f \\\\ \n",
    "g & h & i%\n",
    "\\end{array}%\n",
    "\\right)$$\n"
   ]
  },
  {
   "cell_type": "markdown",
   "metadata": {},
   "source": [
    "## Creating an array with lists"
   ]
  },
  {
   "cell_type": "markdown",
   "metadata": {},
   "source": [
    "Arrays can be constructed with the built-in data structures studied earlier. Lists are particularly suited to doing this, as a simple list can already be considered a one-dimensional array."
   ]
  },
  {
   "cell_type": "code",
   "execution_count": null,
   "metadata": {},
   "outputs": [],
   "source": [
    "data1 =[ 6 , 7.5 , 8 , 0 , -1 ]\n",
    "arr1=np.array(data1)\n",
    "arr1\n",
    "#type(arr1) # let's do a quick type check"
   ]
  },
  {
   "cell_type": "markdown",
   "metadata": {},
   "source": [
    "The elements of an array have to be of the same type. In the array initialisation above, data1[1]=7.5, i.e. a float, while the other elements are integer type. The result is an array of floats. Some more examples"
   ]
  },
  {
   "cell_type": "code",
   "execution_count": null,
   "metadata": {},
   "outputs": [],
   "source": [
    "a=np.array([[1,2],[3,4]])\n",
    "b=np.array([5,6])\n",
    "c=np.array([3,2])"
   ]
  },
  {
   "cell_type": "code",
   "execution_count": null,
   "metadata": {},
   "outputs": [],
   "source": [
    "print(a)\n",
    "print(a[0,0], a[1,1])"
   ]
  },
  {
   "cell_type": "code",
   "execution_count": null,
   "metadata": {},
   "outputs": [],
   "source": [
    "print(b) # gives in row vector form"
   ]
  },
  {
   "cell_type": "markdown",
   "metadata": {},
   "source": [
    "## Simple operations on arrays\n",
    "Using the earlier definitions of $a,b,c$ perform some simple calculations involving matrices and vectors.\n",
    "$$x=ab$$ \n",
    "$$y=b{\\cdot}c$$\n"
   ]
  },
  {
   "cell_type": "code",
   "execution_count": null,
   "metadata": {},
   "outputs": [],
   "source": [
    "x=np.dot(a,b); print(x)"
   ]
  },
  {
   "cell_type": "markdown",
   "metadata": {},
   "source": [
    "Try x=dot(b,a)"
   ]
  },
  {
   "cell_type": "code",
   "execution_count": null,
   "metadata": {},
   "outputs": [],
   "source": [
    "y=np.dot(b,c); print(y)"
   ]
  },
  {
   "cell_type": "code",
   "execution_count": null,
   "metadata": {},
   "outputs": [],
   "source": [
    "print(np.dot(x,y,c)) # what is happening here?"
   ]
  },
  {
   "cell_type": "markdown",
   "metadata": {},
   "source": [
    "The dot function performs matrix multiplication, scalar multiplication and dot product between vectors. "
   ]
  },
  {
   "cell_type": "code",
   "execution_count": null,
   "metadata": {},
   "outputs": [],
   "source": [
    "print(a/a) # dividing a matrix by itself  - not very interesting!"
   ]
  },
  {
   "cell_type": "markdown",
   "metadata": {},
   "source": [
    "## Populating arrays with elements\n",
    "It is always sensible to initialise a matrix when defining it. There are a number of ways to achieve this"
   ]
  },
  {
   "cell_type": "code",
   "execution_count": null,
   "metadata": {},
   "outputs": [],
   "source": [
    "A=np.zeros(3) # 1 argument\n",
    "print(A)"
   ]
  },
  {
   "cell_type": "code",
   "execution_count": null,
   "metadata": {},
   "outputs": [],
   "source": [
    "B=np.zeros((2,2), complex) # 2 argument\n",
    "print(B)"
   ]
  },
  {
   "cell_type": "code",
   "execution_count": null,
   "metadata": {},
   "outputs": [],
   "source": [
    "C=np.ones((2,3)) ; print(C)"
   ]
  },
  {
   "cell_type": "code",
   "execution_count": null,
   "metadata": {},
   "outputs": [],
   "source": [
    "D=np.ones(2) ; print(D)"
   ]
  },
  {
   "cell_type": "code",
   "execution_count": null,
   "metadata": {},
   "outputs": [],
   "source": [
    "np.ones(4) # the command ones(4) will produce the same output"
   ]
  },
  {
   "cell_type": "markdown",
   "metadata": {},
   "source": [
    "There are other ways of filling an array"
   ]
  },
  {
   "cell_type": "code",
   "execution_count": null,
   "metadata": {},
   "outputs": [],
   "source": [
    "k=np.arange(15) # create an array called k and initialise using arange function\n",
    "print(k)"
   ]
  },
  {
   "cell_type": "markdown",
   "metadata": {},
   "source": [
    "The earlier sort() function can be used as `np.sort(array)`"
   ]
  },
  {
   "cell_type": "markdown",
   "metadata": {},
   "source": [
    "Let's convert the array above to say one that is 5x3 using the method reshape which takes as input, the format"
   ]
  },
  {
   "cell_type": "code",
   "execution_count": null,
   "metadata": {},
   "outputs": [],
   "source": [
    "k=np.arange(15).reshape(5,3)\n",
    "k"
   ]
  },
  {
   "cell_type": "markdown",
   "metadata": {},
   "source": [
    "Populating an array algebraically"
   ]
  },
  {
   "cell_type": "code",
   "execution_count": null,
   "metadata": {},
   "outputs": [],
   "source": [
    "arr2=np.empty((10,4))\n",
    "for i in range(10):\n",
    "    arr2[i]= i-1\n",
    "print(arr2)"
   ]
  },
  {
   "cell_type": "code",
   "execution_count": null,
   "metadata": {},
   "outputs": [],
   "source": [
    "arr3=np.empty(6) # what does the empty function do?\n",
    "arr3"
   ]
  },
  {
   "cell_type": "code",
   "execution_count": null,
   "metadata": {},
   "outputs": [],
   "source": [
    "# Create a 3x3 identity matrix\n",
    "np.eye(3)"
   ]
  },
  {
   "cell_type": "markdown",
   "metadata": {},
   "source": [
    "Always good to initialise an array with somehting you know to avoid Python doing it in some unstructured way"
   ]
  },
  {
   "cell_type": "markdown",
   "metadata": {},
   "source": [
    "## Array indexing and slicing\n",
    "Select a subset or individual elements from a one dimensional array:"
   ]
  },
  {
   "cell_type": "code",
   "execution_count": null,
   "metadata": {},
   "outputs": [],
   "source": [
    "arr=np.arange(10)\n",
    "from scipy import random  # this line and the next are inc\n",
    "random.shuffle(arr) \n",
    "print(arr)\n",
    "print(arr[5:8]) # from 5 to 8 minus one"
   ]
  },
  {
   "cell_type": "markdown",
   "metadata": {},
   "source": [
    "Assign a value to a slice:"
   ]
  },
  {
   "cell_type": "code",
   "execution_count": null,
   "metadata": {},
   "outputs": [],
   "source": [
    "arr[5:8]=14\n",
    "arr"
   ]
  },
  {
   "cell_type": "markdown",
   "metadata": {},
   "source": [
    "A slice is a view of the array, so any changes made to a slice are propagated to the source array."
   ]
  },
  {
   "cell_type": "markdown",
   "metadata": {},
   "source": [
    "Now consider the following structure:"
   ]
  },
  {
   "cell_type": "code",
   "execution_count": null,
   "metadata": {},
   "outputs": [],
   "source": [
    "arr2d = np.array( [ [ 1 , 2 , 3 , 4 ] , [ 5 , 6 , 7 , 8 ] , [ 9 , 10 , 11 , 12 ] ] )\n",
    "arr2d"
   ]
  },
  {
   "cell_type": "markdown",
   "metadata": {},
   "source": [
    "<img src='./img/array 1.png' width=300>"
   ]
  },
  {
   "cell_type": "markdown",
   "metadata": {},
   "source": [
    "Now individiual elements can be accessed e.g. arr2d[1,2]=7"
   ]
  },
  {
   "cell_type": "code",
   "execution_count": null,
   "metadata": {},
   "outputs": [],
   "source": [
    "arr2d[1,2]"
   ]
  },
  {
   "cell_type": "code",
   "execution_count": null,
   "metadata": {},
   "outputs": [],
   "source": [
    "arr2d[2,:] # row 2 and sweep all columns"
   ]
  },
  {
   "cell_type": "markdown",
   "metadata": {},
   "source": [
    "The results of the above are the shaded area below\n",
    "\n",
    "<img src='./img/array 2.png' width=300>"
   ]
  },
  {
   "cell_type": "markdown",
   "metadata": {},
   "source": [
    "What will the following return?"
   ]
  },
  {
   "cell_type": "code",
   "execution_count": null,
   "metadata": {},
   "outputs": [],
   "source": [
    "arr2d[:,:2] "
   ]
  },
  {
   "cell_type": "markdown",
   "metadata": {},
   "source": [
    "So all the rows and first 2 columns as below \n",
    "<img src='./img/array 3.png' width=300>"
   ]
  },
  {
   "cell_type": "code",
   "execution_count": null,
   "metadata": {},
   "outputs": [],
   "source": [
    "arr2d[0,:] #row 0 and sweep all columns"
   ]
  },
  {
   "cell_type": "markdown",
   "metadata": {},
   "source": [
    "Now generate a 3D array of the following form"
   ]
  },
  {
   "cell_type": "code",
   "execution_count": null,
   "metadata": {},
   "outputs": [],
   "source": [
    "arr3d = np.array( [ [ [ 1 , 2 , 3 ], [ 4 , 5 , 6 ] ], [ [ 7 , 8 , 9 ],\n",
    "[ 10 , 11 , 12 ] ] ] )\n",
    "arr3d"
   ]
  },
  {
   "cell_type": "markdown",
   "metadata": {},
   "source": [
    "Its schematic representation is\n",
    "<img src='./img/array 4.png' width=300>\n",
    "The shape of this array is: (2, 2, 3) i.e. $2\\times2\\times3$."
   ]
  },
  {
   "cell_type": "markdown",
   "metadata": {},
   "source": [
    "In order to select the following from the 3D array \n",
    "<img src='./img/array 5.png' width=300>"
   ]
  },
  {
   "cell_type": "markdown",
   "metadata": {},
   "source": [
    "The following reference can be used"
   ]
  },
  {
   "cell_type": "code",
   "execution_count": null,
   "metadata": {},
   "outputs": [],
   "source": [
    "arr3d[1,1,:]"
   ]
  },
  {
   "cell_type": "markdown",
   "metadata": {},
   "source": [
    "or"
   ]
  },
  {
   "cell_type": "code",
   "execution_count": null,
   "metadata": {},
   "outputs": [],
   "source": [
    "arr3d[1,1,]"
   ]
  },
  {
   "cell_type": "markdown",
   "metadata": {},
   "source": [
    "If latter indices are omitted, the returned object will be a lower-dimensional array consisting of all the data along the higher dimensions, e.g"
   ]
  },
  {
   "cell_type": "code",
   "execution_count": null,
   "metadata": {},
   "outputs": [],
   "source": [
    "print(arr3d[0]) # first row\n",
    "print(arr3d[1]) # second row"
   ]
  },
  {
   "cell_type": "markdown",
   "metadata": {},
   "source": [
    "In each case a $2\\times3$ array"
   ]
  },
  {
   "cell_type": "markdown",
   "metadata": {},
   "source": [
    "A universal function (ufunc) performs element-wise operations on the data in the arrays:\n",
    "* unary - sqrt(arr), exp(arr), floor(arr)\n",
    "* binary - maximum(arr1,arr2) , add(arr1,arr2), multiply(arr1,arr2)\n"
   ]
  },
  {
   "cell_type": "markdown",
   "metadata": {},
   "source": [
    "To **transpose** a matrix use .T"
   ]
  },
  {
   "cell_type": "code",
   "execution_count": null,
   "metadata": {},
   "outputs": [],
   "source": [
    "import numpy as np\n",
    "A=np.array([[1,2],[3,4]])\n",
    "print(\"A=\\n\",A)\n",
    "print(\"The transpose of A = \\n\", A.T)"
   ]
  },
  {
   "cell_type": "markdown",
   "metadata": {},
   "source": [
    "For **matrix powers**, i.e. $A^n$ first import the **linalg library** and then use the function **matrix_power** linalg.matrix_power(A,n)"
   ]
  },
  {
   "cell_type": "code",
   "execution_count": null,
   "metadata": {},
   "outputs": [],
   "source": [
    "from numpy import linalg as LA\n",
    "LA.matrix_power(A,2)"
   ]
  },
  {
   "cell_type": "markdown",
   "metadata": {},
   "source": [
    "## Solving linear systems\n",
    "We continue to make use of the linalg library to solve linear equations\n",
    "\\begin{eqnarray}\n",
    "ax_1+bx_2+cx_3 &=&p  \\ \\\\\n",
    "dx_1+ex_2+fx_3 &=&q  \\notag \\\\\n",
    "gx_1+hx_2+ix_3 &=&r  \\notag\n",
    "\\end{eqnarray}\n",
    "for the unknown vector **x**=$(x_1,x_2,z_3)$. Use the function linalg.solve to solve the system. Here is a $3\\times3$ example: Solve the matrix inversion problem $A$**x**=**b** where \n",
    "\n",
    "\n",
    "$$A=\\left( \n",
    "\\begin{array}{ccc}\n",
    "2 & 1 & -2 \\\\ \n",
    "3 & 2 & 2 \\\\ \n",
    "5 & 4 & 3%\n",
    "\\end{array}%\n",
    "\\right) ;\\ \\mathbf{b=}\\left( \n",
    "\\begin{array}{c}\n",
    "10 \\\\ \n",
    "1 \\\\ \n",
    "4%\n",
    "\\end{array}%\n",
    "\\right)$$ \n"
   ]
  },
  {
   "cell_type": "code",
   "execution_count": null,
   "metadata": {},
   "outputs": [],
   "source": [
    "A=([2,1,-2], [3,2,2], [5,4,3]) # define A\n",
    "b=[10,1,4] #define b\n",
    "solution=LA.solve(A,b) # solve function used \n",
    "solution"
   ]
  },
  {
   "cell_type": "code",
   "execution_count": null,
   "metadata": {},
   "outputs": [],
   "source": [
    "A=([1,2,-3], [0,1,-2], [0,0,0]) # define A\n",
    "b=[6,2,0] #define b\n",
    "solution=LA.solve(A,b) # solve function used \n",
    "solution"
   ]
  },
  {
   "cell_type": "markdown",
   "metadata": {},
   "source": [
    "## Eigenvalues\n",
    "The matrix\n",
    "$$\n",
    "\\mathbf{A=}\\left( \n",
    "\\begin{array}{ccc}\n",
    "3 & 3 & 3 \\\\ \n",
    "3 & -1 & 1 \\\\ \n",
    "3 & 1 & -1%\n",
    "\\end{array}%\n",
    "\\right)$$\n",
    "has eigenvalues, i.e. the roots of this equation, are $\\lambda _{1}=-3,$ $%\n",
    "\\lambda _{2}=-2$ and $\\lambda _{3}=6$\n",
    "with normalised eigenvectors\n",
    "$$\n",
    "{\\mathbf{v}}_{1}=\\frac{1}{\\sqrt{3}}%\n",
    "\\begin{pmatrix}\n",
    "1 \\\\ \n",
    "-1 \\\\ \n",
    "-1%\n",
    "\\end{pmatrix}%\n",
    ",\\ \\ \\ {\\mathbf{v}}_{2}=\\frac{1}{\\sqrt{2}}%\n",
    "\\begin{pmatrix}\n",
    "0 \\\\ \n",
    "1 \\\\ \n",
    "-1%\n",
    "\\end{pmatrix}%\n",
    ",\\ \\ \\ {\\mathbf{v}}_{3}=\\frac{1}{\\sqrt{6}}%\n",
    "\\begin{pmatrix}\n",
    "2 \\\\ \n",
    "1 \\\\ \n",
    "1%\n",
    "\\end{pmatrix}%\n",
    "$$\n",
    "\n",
    "To compute this in Python\n",
    "\n"
   ]
  },
  {
   "cell_type": "code",
   "execution_count": null,
   "metadata": {},
   "outputs": [],
   "source": [
    "A=([3,3,3], [3,-1,1], [3,1,-1]) # define \n",
    "LA.eig(A) # calculates the e-values and e-vectors"
   ]
  },
  {
   "cell_type": "code",
   "execution_count": null,
   "metadata": {},
   "outputs": [],
   "source": [
    "LA.det(A) # determinant of A"
   ]
  },
  {
   "cell_type": "code",
   "execution_count": null,
   "metadata": {},
   "outputs": [],
   "source": [
    "LA.inv(A) # inverse of A"
   ]
  },
  {
   "cell_type": "markdown",
   "metadata": {},
   "source": [
    "Compute the eigenvalues (and normalised eigenvectors) of the matrix\n",
    "$$\n",
    "\\mathbf{A=}\\left( \n",
    "\\begin{array}{ccc}\n",
    "2 & 0 & 1 \\\\ \n",
    "-1 & 2 & 3 \\\\ \n",
    "1 & 0 & 2%\n",
    "\\end{array}%\n",
    "\\right)$$"
   ]
  },
  {
   "cell_type": "code",
   "execution_count": null,
   "metadata": {},
   "outputs": [],
   "source": [
    "A=([3,2,-2], [2,0,1], [-1,-3,5]) # define \n",
    "LA.eig(A) # calculates the e-values and e-vectors"
   ]
  },
  {
   "cell_type": "markdown",
   "metadata": {},
   "source": [
    "## Vector norms\n"
   ]
  },
  {
   "cell_type": "markdown",
   "metadata": {},
   "source": [
    "$$\n",
    "\\begin{equation*}\n",
    "\\left\\Vert \\underline{x}\\right\\Vert _{p}=\\left( \\underset{i=1}{\\overset{N}{\\prod }} {x_{i}}^p \\right)\n",
    "^{1/p}\n",
    "\\end{equation*}\n",
    "$$"
   ]
  },
  {
   "cell_type": "code",
   "execution_count": null,
   "metadata": {},
   "outputs": [],
   "source": [
    "from numpy import array\n",
    "from numpy.linalg import norm\n",
    "from numpy import inf # infinity\n",
    "a = array([2, 1, 3, -4])\n",
    "print(a)\n",
    "l1 = norm(a, 1) \n",
    "l2 = norm(a, 2)\n",
    "linf = norm(a,inf)\n",
    "print(\"l1-norm is \", l1)\n",
    "print(\"l2-norm is \",l2)\n",
    "print(\"l_inf-norm is \", linf)"
   ]
  },
  {
   "cell_type": "markdown",
   "metadata": {},
   "source": [
    "# matplotlib - 2D "
   ]
  },
  {
   "cell_type": "markdown",
   "metadata": {},
   "source": [
    "Matplotlib (which is the whole package) is an advanced plotting library capable of high-quality graphics. Matplotlib contains both high level functions which produce specific types of figures, for example a simple line plot or a bar chart, as well as a low level API for creating highly customized charts. This section is a very brief introduction to a vast topic. Graphical outputs are very important in numerical computing when displaying results. The advantages of using this library include:\n",
    "\n",
    "* As with Python easy to get started\n",
    "* Support for latex formatted labels and texts\n",
    "* Superior levels of control of all aspects of high quality figures in many formats (e.g. PNG, PDF, SVG, EPS, PGF)\n",
    "\n",
    "Detailed information can be found at: http://matplotlib.org\n",
    "There are three different types of main plots in the package:\n",
    "\n",
    "1. plt.plot\n",
    "2. plt.scatter\n",
    "3. plt.bar\n",
    "\n",
    "Firstly the necessary imports.\n"
   ]
  },
  {
   "cell_type": "code",
   "execution_count": null,
   "metadata": {},
   "outputs": [],
   "source": [
    "import matplotlib.pyplot as plt \n",
    "from matplotlib import * \n",
    "from pylab import * # embedded in matplotlib to give matlab style visuals\n",
    "import numpy as np\n",
    "%matplotlib inline "
   ]
  },
  {
   "cell_type": "markdown",
   "metadata": {},
   "source": [
    "## Simple Line Plots\n",
    "Let's start with line plots and build on that. "
   ]
  },
  {
   "cell_type": "code",
   "execution_count": null,
   "metadata": {},
   "outputs": [],
   "source": [
    "# simplest type of plot\n",
    "plt.plot([7,29,23,3,25])\n",
    "plt.show() # this also works without .plt"
   ]
  },
  {
   "cell_type": "markdown",
   "metadata": {},
   "source": [
    "If a single list or array is provided (as in this example) to the plot() command, matplotlib assumes it is a sequence of $y$ values, and automatically generates the $x$ values for you. Since python ranges start with 0, the default $x$ vector has the same length as y but starts with 0. Hence the values for $x$ are [0,1,2,3]. It is an unrealistic example but nevertheless a good starting point when discussing the graphics package. In the example above we have\n",
    "<img src='./img/table 2.png' width=250>"
   ]
  },
  {
   "cell_type": "markdown",
   "metadata": {},
   "source": [
    "## Drawing a simple straight line \n",
    "Let's start by plotting $y=x$ by defining the domain: $-4\\le x \\le 4$ \n",
    "Introduce a different way of discretising the $x$-axis using the **linspace** function which has format linspace(first,last,num). \n",
    "\n",
    "This returns num evenly spaced samples over a specified interval [first,last], including the last value. So unlike the arange function that has a step-size, linspace has number of samples.\n",
    "\n",
    "To make clear how this function works, the parameters in the definition above give the following step size\n",
    "\n",
    "$$ \\frac{last - first}{num-1} $$"
   ]
  },
  {
   "cell_type": "code",
   "execution_count": null,
   "metadata": {},
   "outputs": [],
   "source": [
    "x=np.linspace(-4,4,20) # remember we don't need more than two points for a straight line\n",
    "\n",
    "y=x\n",
    "print(x)\n",
    "plt.plot(x,y) # display's graph inline\n",
    "#show()\n",
    "#plt.savefig('C:/Users/rahmad/Desktop/line.png') # saving to directory given pathname"
   ]
  },
  {
   "cell_type": "markdown",
   "metadata": {},
   "source": [
    "Recall the earlier example in the section of lists, where we produced a list of cubic numbers using the for loop. Let's use that here to produce very compact code, by passing to the plot function, our list object "
   ]
  },
  {
   "cell_type": "code",
   "execution_count": null,
   "metadata": {},
   "outputs": [],
   "source": [
    "y = [x**3-5*x**2-30*x+4 for x in range(10)]\n",
    "plt.plot(y); # the ; suppresses any meaningless output message - try without!"
   ]
  },
  {
   "cell_type": "markdown",
   "metadata": {},
   "source": [
    "In the previous graph, suppose we want to make the points on the curve more visible, the line\n",
    "\n",
    "plt.plot(y,'ro')\n",
    "\n",
    "which will on the blue line, produce red dots"
   ]
  },
  {
   "cell_type": "code",
   "execution_count": null,
   "metadata": {},
   "outputs": [],
   "source": [
    "y = [x**3-5*x**2-30*x+4 for x in range(10)]\n",
    "plt.plot(y)\n",
    "plt.plot(y,'ro');"
   ]
  },
  {
   "cell_type": "markdown",
   "metadata": {},
   "source": [
    "## Plotting an arbitrary function $f(x)$ "
   ]
  },
  {
   "cell_type": "code",
   "execution_count": null,
   "metadata": {},
   "outputs": [],
   "source": [
    "x=np.linspace(-3,4,30) \n",
    "y=-x**3+4*x**2-5*x+2\n",
    "plt.plot(x,y); # display's graph"
   ]
  },
  {
   "cell_type": "markdown",
   "metadata": {},
   "source": [
    "## Adding labels and titles"
   ]
  },
  {
   "cell_type": "code",
   "execution_count": null,
   "metadata": {},
   "outputs": [],
   "source": [
    "x=np.linspace(-4,4,40) \n",
    "y=x**2\n",
    "plt.xlabel('$x$') # label x axis\n",
    "plt.ylabel('$y$') # label y axis\n",
    "plt.title('graph of $y=x^2$') # Title of figure\n",
    "plt.plot(x,y); # display's graph"
   ]
  },
  {
   "cell_type": "markdown",
   "metadata": {},
   "source": [
    "## Multiple Plots and adding legend"
   ]
  },
  {
   "cell_type": "code",
   "execution_count": null,
   "metadata": {},
   "outputs": [],
   "source": [
    "x=np.linspace(-4,4,30)\n",
    "y1=x**2\n",
    "y2=-x**2\n",
    "y3=(x-2)**2\n",
    "plt.plot(x,y1, label='$y=x^2$')\n",
    "plt.plot(x,y2, label=\"$y=-x^2$\")\n",
    "plt.plot(x,y3, label=\"$y=(x-2)^2$\")\n",
    "plt.legend()\n",
    "# plt.savefig('/Users/rahmad/Desktop/plots.png')  ** REPLACE WITH YOUR LOCATION"
   ]
  },
  {
   "cell_type": "markdown",
   "metadata": {},
   "source": [
    "## Selecting colour, marker and linestyle\n",
    "The colors in the previous plot are default. The style of line can be controlled by the user through the **plot** function.This means colour, marker and line style. Start with simple colour. **Note: the US spelling 'color' must be used to avoid a syntax error** "
   ]
  },
  {
   "cell_type": "code",
   "execution_count": null,
   "metadata": {},
   "outputs": [],
   "source": [
    "x=np.linspace(-4,4,50) \n",
    "y=x**4\n",
    "plt.plot(x,y, color='red') # the 3rd function parameter here defines the colour"
   ]
  },
  {
   "cell_type": "markdown",
   "metadata": {},
   "source": [
    "We see the additional function argument allows the user to control the plot colour for $y=x^4$. This is the standard syntax. We can also use **color = 'r'** to achieve the same result.\n",
    "\n",
    "Now look at various marker styles, using the last plot. "
   ]
  },
  {
   "cell_type": "code",
   "execution_count": null,
   "metadata": {},
   "outputs": [],
   "source": [
    "x=np.linspace(-4,4,50)\n",
    "y=x**4\n",
    "plt.plot(x,y,'g*') # change color to green and use * for the plot"
   ]
  },
  {
   "cell_type": "markdown",
   "metadata": {},
   "source": [
    "Plot a blue line where the line style consists of dots"
   ]
  },
  {
   "cell_type": "code",
   "execution_count": null,
   "metadata": {},
   "outputs": [],
   "source": [
    "x=np.linspace(-4,4,50)\n",
    "y=x**4\n",
    "plt.plot(x,y,'b.') # change color to blue and use dotted line style for the plot"
   ]
  },
  {
   "cell_type": "markdown",
   "metadata": {},
   "source": [
    "Here's a more full list of options.\n",
    "As an exercise, try each one!\n",
    "<img src='./img/graphics.png' width=750>"
   ]
  },
  {
   "cell_type": "markdown",
   "metadata": {},
   "source": [
    "Let's repeat the earlier example used to demonstrate the use of legends and present different coloured linestyles. We define the line styles and colors in the second function argument"
   ]
  },
  {
   "cell_type": "code",
   "execution_count": null,
   "metadata": {},
   "outputs": [],
   "source": [
    "x=np.linspace(-4,4,30)\n",
    "y1=x**2\n",
    "y2=-x**2\n",
    "y3=(x-2)**2\n",
    "plt.plot(x,y1, 'ro', label='$y=x^2$') # red circles\n",
    "plt.plot(x,y2, 'kH', label=\"$y=-x^2$\") # black hexagons\n",
    "plt.plot(x,y3, 'c^', label=\"$y=(x-2)^2$\") #cyan triangles\n",
    "plt.legend()\n",
    "plt.savefig('/Users/rahmad/Desktop/plots.png') # saves to desktop"
   ]
  },
  {
   "cell_type": "markdown",
   "metadata": {},
   "source": [
    "## Figure size\n",
    "The plots created so far have been done using a set of default dimensions. The size can be changed using the method **figure** with a function parameter **figsize=(l,w)** where l represents the length and w is the width in inches. To convert to say cm one way is to do this by writing a user defined function to perform the conversion."
   ]
  },
  {
   "cell_type": "code",
   "execution_count": null,
   "metadata": {},
   "outputs": [],
   "source": [
    "x=np.linspace(-4,4,10)\n",
    "plt.figure(figsize=(12,4)) # re-do later set the figure size here with length 10 and width 8\n",
    "y=x**2\n",
    "plt.plot(x,y); # display's graph inline"
   ]
  },
  {
   "cell_type": "markdown",
   "metadata": {},
   "source": [
    "Other features such as face colour can also be set in the figure method. Suppose we would like a pink background, then an additional function argument facecolor='pink' achieves this"
   ]
  },
  {
   "cell_type": "code",
   "execution_count": null,
   "metadata": {},
   "outputs": [],
   "source": [
    "x=np.linspace(-4,4,2)\n",
    "plt.figure(figsize=(10,8), facecolor='pink') \n",
    "y=x\n",
    "plt.plot(x,y) # display's graph inline"
   ]
  },
  {
   "cell_type": "markdown",
   "metadata": {},
   "source": [
    "## Multiple plots\n",
    "The option to present several plots in a single figure is advantageous for visual effects and comparison purposes. This is also achievable using the **figure** method. The subplot() function specifies\n",
    "**subplot(num_rows, num_cols, fignum)**\n",
    "- number of rows\n",
    "- number of columns\n",
    "- The figure number: fignum where fignum ranges from 1 to numrows$\\times$numcols.\n",
    "\n",
    "\n",
    "Let's start with three subplots."
   ]
  },
  {
   "cell_type": "code",
   "execution_count": null,
   "metadata": {},
   "outputs": [],
   "source": [
    "#Subplot\n",
    "plt.figure(1, figsize=(10,8)) # overall dimnesions \n",
    "# in \"inches\", can change DPI \"dots per inch\"\n",
    "x=np.linspace(-2*np.pi,2*np.pi,100)\n",
    "y1=np.sin(x)\n",
    "y2=np.cos(x)\n",
    "plt.subplot(3,1, 1) # 3 by 1 and plot 1\n",
    "plt.plot(x, y1, 'go-')\n",
    "plt.title('Introduction to trig functions')\n",
    "plt.ylabel('$y=sinx$')\n",
    "plt.subplot(3,1, 2) # 3 by 1 and plot 2\n",
    "plt.plot(x, y2, 'r.-')\n",
    "plt.ylabel('$y=cosx$')\n",
    "plt.subplot(3,1,3) # 3 by 1 and plot 3\n",
    "plt.plot(x,y1+y2, 'm*:')\n",
    "plt.ylabel('$y=sinx+cosx$')\n"
   ]
  },
  {
   "cell_type": "code",
   "execution_count": null,
   "metadata": {},
   "outputs": [],
   "source": [
    "#Subplot\n",
    "plt.figure(1, figsize=(10,8)) # overall dimnesions \n",
    "# in \"inches\", can change DPI \"dots per inch\"\n",
    "x=np.linspace(-4,4,50)\n",
    "y1=x**2\n",
    "y2=x**3\n",
    "y3=-y2\n",
    "y4=np.exp(x)\n",
    "plt.subplot(2,2, 1) # 3 by 1 and plot 1\n",
    "plt.plot(x, y1, 'go-')\n",
    "plt.title('Graph 1', fontsize=10)\n",
    "plt.ylabel('$y=x^2$')\n",
    "plt.subplot(2,2, 2) # 3 by 1 and plot 2\n",
    "plt.plot(x, y2, 'r.-')\n",
    "plt.title('Graph 2', fontsize=10)\n",
    "plt.ylabel('$y=x^3$')\n",
    "plt.subplot(2,2,3) # 3 by 1 and plot 3\n",
    "plt.plot(x,y3, 'm*:')\n",
    "plt.ylabel('$y=x^2+x^3$')\n",
    "plt.title('Graph 3', fontsize=10)\n",
    "plt.subplot(2,2,4)\n",
    "plt.plot(x,y4, 'k--')\n",
    "plt.title('Graph 4', fontsize=10)\n",
    "plt.ylabel('$y=e^x$')\n",
    "#plt.tight_layout() # leaves a space between subplots (try commenting out this line)\n",
    "plt.suptitle('Main Title', fontsize=20, color = 'red')"
   ]
  },
  {
   "cell_type": "markdown",
   "metadata": {},
   "source": [
    "## Defining a font style\n",
    "The fonts used so far for the title and axes labels are a default setting. One can define their own styles and then use in all plots. Consider the following"
   ]
  },
  {
   "cell_type": "code",
   "execution_count": null,
   "metadata": {},
   "outputs": [],
   "source": [
    "font_riaz = {'family': 'calibri', # this is the font\n",
    "'color': 'darkred', # colour\n",
    "'weight': 'bold', # normal or bold\n",
    "'size': 18, # size of font\n",
    "}"
   ]
  },
  {
   "cell_type": "markdown",
   "metadata": {},
   "source": [
    "Having designed this 'bespoke' font, let's use it by repeating an earlier plot"
   ]
  },
  {
   "cell_type": "code",
   "execution_count": null,
   "metadata": {},
   "outputs": [],
   "source": [
    "x=np.linspace(-4,4,2)\n",
    "plt.figure(figsize=(10,8), facecolor='pink') \n",
    "y=x\n",
    "plt.title('A straight line', fontdict=font_riaz)\n",
    "plt.plot(x,y) # display's graph inline"
   ]
  },
  {
   "cell_type": "markdown",
   "metadata": {},
   "source": [
    "## Adding text to a graph\n",
    "Using the user-defined font"
   ]
  },
  {
   "cell_type": "code",
   "execution_count": null,
   "metadata": {},
   "outputs": [],
   "source": [
    "x = np.linspace(0.0, 5.0, 100)\n",
    "y = np.cos(2*np.pi*x) * np.exp(-x)\n",
    "plt.plot(x, y, 'k')\n",
    "plt.title('Damped exponential decay', fontdict=font_riaz)\n",
    "plt.text(2, 0.65, '$\\cos(2 \\pi t) e^{-t}$', fontdict=font_riaz)\n",
    "plt.show()"
   ]
  },
  {
   "cell_type": "markdown",
   "metadata": {},
   "source": [
    "## Other plots\n"
   ]
  },
  {
   "cell_type": "code",
   "execution_count": null,
   "metadata": {},
   "outputs": [],
   "source": [
    "r1=np.random.randn(10) #x\n",
    "r2=np.random.randn(10) #y\n",
    "plt.scatter(r1,r2) #in this case we have x and y\n",
    "plt.show()\n",
    "print(r1,r2)"
   ]
  },
  {
   "cell_type": "markdown",
   "metadata": {},
   "source": [
    "**Grid lines and limiting the axes** - we can control this"
   ]
  },
  {
   "cell_type": "code",
   "execution_count": null,
   "metadata": {},
   "outputs": [],
   "source": [
    "plt.scatter(r1,r2)\n",
    "plt.grid()\n",
    "plt.xlim(-1.0,3.0)\n",
    "plt.ylim(-1.0,1.0)\n",
    "plt.xticks([-0.5,0,0.5, 1.0, 1.5,2.0,2.5,3.0])\n",
    "plt.yticks(np.arange(-1,1,0.2))\n",
    "plt.show()"
   ]
  },
  {
   "cell_type": "markdown",
   "metadata": {},
   "source": [
    "Now plot some trigonometric functions. Introduce a different way of discretising the $x$-axis using the linspace function which has format\n",
    "linspace(first,last,num). This returns num evenly spaced samples over a specified interval [first,last], including the last value. So unlike the arange function that has a step-size, linspace has number of samples. Two examples"
   ]
  },
  {
   "cell_type": "code",
   "execution_count": null,
   "metadata": {},
   "outputs": [],
   "source": [
    "np.linspace(2.0, 3.0, num=10)"
   ]
  },
  {
   "cell_type": "code",
   "execution_count": null,
   "metadata": {},
   "outputs": [],
   "source": [
    "np.linspace(2.0,3.0,num=5,endpoint=False) # the third parameter will not include the endpoint"
   ]
  },
  {
   "cell_type": "code",
   "execution_count": null,
   "metadata": {},
   "outputs": [],
   "source": [
    "x=np.linspace(-2*np.pi,2*np.pi,100)\n",
    "y1=np.sin(x)\n",
    "y2=np.cos(x)\n",
    "plt.plot(x,y1,'pink')\n",
    "plt.plot(x,y2,'r')\n",
    "plt.xlabel('$x$')\n",
    "plt.ylabel('$y$')\n",
    "plt.title('trig. functions')\n",
    "plt.show()"
   ]
  },
  {
   "cell_type": "markdown",
   "metadata": {},
   "source": [
    "Some general polynomial plot e.g. $y=x^4+4x^3+(x-2)^2$"
   ]
  },
  {
   "cell_type": "code",
   "execution_count": null,
   "metadata": {},
   "outputs": [],
   "source": [
    "x=linspace(-10,7,100)\n",
    "y=x**4+4*x**3+(x-2)**2\n",
    "plot(x,y,'red')\n",
    "xlabel('$x$')\n",
    "ylabel('$y$')\n",
    "title('quartic polynomial');"
   ]
  },
  {
   "cell_type": "markdown",
   "metadata": {},
   "source": [
    "Two basic but very useful 2D plotting functions are\n",
    "* **plt.autoscale** : autoscale can be used to set limits within a figure’s axes.\n",
    "* **plt.tight_layout** : tight_layout will remove wasted space around a figure. \n",
    "The use of which greatly improve the appearance of figures."
   ]
  },
  {
   "cell_type": "code",
   "execution_count": null,
   "metadata": {},
   "outputs": [],
   "source": [
    "from pylab import *\n",
    "y=randn(1000)\n",
    "plot(y)\n",
    "# without use of functions"
   ]
  },
  {
   "cell_type": "code",
   "execution_count": null,
   "metadata": {},
   "outputs": [],
   "source": [
    "y=randn(1000)\n",
    "plot(y)\n",
    "plt.autoscale(tight='x') # with functions\n",
    "plt.tight_layout()"
   ]
  },
  {
   "cell_type": "markdown",
   "metadata": {},
   "source": [
    "## Handling axes"
   ]
  },
  {
   "cell_type": "markdown",
   "metadata": {},
   "source": [
    "Suppose we wish to add in the x and y axis as well as have some control over the colour. "
   ]
  },
  {
   "cell_type": "code",
   "execution_count": null,
   "metadata": {},
   "outputs": [],
   "source": [
    "import matplotlib.pyplot as plt\n",
    "import numpy as np\n",
    "x = np.arange(-10, 10)\n",
    "y = 2*x + 1\n",
    "y1 = 6*x - 2\n",
    "\n",
    "plt.figure()\n",
    "plt.plot(x, y)\n",
    "plt.plot(x, y1)\n",
    "plt.xlim(-2, 10)\n",
    "plt.ylim(-2, 10)\n",
    "# draw axes\n",
    "plt.axvline(x=0, color='grey') # specify colour of y-axis\n",
    "plt.axhline(y=0, color='pink') # specify colour of x-axis\n",
    "plt.show()\n",
    "plt.close()"
   ]
  },
  {
   "cell_type": "markdown",
   "metadata": {},
   "source": [
    "## Histograms"
   ]
  },
  {
   "cell_type": "markdown",
   "metadata": {},
   "source": [
    "Let's look at some simple histograms. As an example suppose we have a data set. The set of 100 patients registered at a local GP (medical practise) surgery. The data is in a txt file (in this folder) called Ages.txt\n",
    "\n",
    "We start by reading that and "
   ]
  },
  {
   "cell_type": "code",
   "execution_count": null,
   "metadata": {},
   "outputs": [],
   "source": [
    "from numpy import *\n",
    "import numpy as np\n",
    "\n",
    "age = np.loadtxt('/Users/rahmad/Desktop/Fitch/Ages.txt')\n",
    "\n",
    "# let's check it looks ok by printing out list\n",
    "\n",
    "print(age)\n",
    "type(age) # Ages is of type list. What type is age?\n"
   ]
  },
  {
   "cell_type": "code",
   "execution_count": null,
   "metadata": {},
   "outputs": [],
   "source": [
    "import matplotlib.pyplot as plt\n",
    "plt.hist(age, bins=([0,10,20,30,40,50,60,70,80,90,99]))\n",
    "#plt.hist(age, bins=10)\n",
    "plt.ylim(0,18)\n",
    "plt.show()"
   ]
  },
  {
   "cell_type": "code",
   "execution_count": null,
   "metadata": {},
   "outputs": [],
   "source": []
  }
 ],
 "metadata": {
  "kernelspec": {
   "display_name": "Python 3",
   "language": "python",
   "name": "python3"
  },
  "language_info": {
   "codemirror_mode": {
    "name": "ipython",
    "version": 3
   },
   "file_extension": ".py",
   "mimetype": "text/x-python",
   "name": "python",
   "nbconvert_exporter": "python",
   "pygments_lexer": "ipython3",
   "version": "3.6.1"
  },
  "latex_envs": {
   "LaTeX_envs_menu_present": true,
   "autoclose": false,
   "autocomplete": true,
   "bibliofile": "biblio.bib",
   "cite_by": "apalike",
   "current_citInitial": 1,
   "eqLabelWithNumbers": true,
   "eqNumInitial": 1,
   "hotkeys": {
    "equation": "Ctrl-E",
    "itemize": "Ctrl-I"
   },
   "labels_anchors": false,
   "latex_user_defs": false,
   "report_style_numbering": false,
   "user_envs_cfg": false
  },
  "nbTranslate": {
   "displayLangs": [
    "*"
   ],
   "hotkey": "alt-t",
   "langInMainMenu": true,
   "sourceLang": "en",
   "targetLang": "fr",
   "useGoogleTranslate": true
  },
  "toc": {
   "base_numbering": 1,
   "nav_menu": {},
   "number_sections": true,
   "sideBar": true,
   "skip_h1_title": false,
   "title_cell": "Table of Contents",
   "title_sidebar": "Contents",
   "toc_cell": true,
   "toc_position": {
    "height": "calc(100% - 180px)",
    "left": "10px",
    "top": "150px",
    "width": "256px"
   },
   "toc_section_display": true,
   "toc_window_display": true
  },
  "varInspector": {
   "cols": {
    "lenName": 16,
    "lenType": 16,
    "lenVar": 40
   },
   "kernels_config": {
    "python": {
     "delete_cmd_postfix": "",
     "delete_cmd_prefix": "del ",
     "library": "var_list.py",
     "varRefreshCmd": "print(var_dic_list())"
    },
    "r": {
     "delete_cmd_postfix": ") ",
     "delete_cmd_prefix": "rm(",
     "library": "var_list.r",
     "varRefreshCmd": "cat(var_dic_list()) "
    }
   },
   "types_to_exclude": [
    "module",
    "function",
    "builtin_function_or_method",
    "instance",
    "_Feature"
   ],
   "window_display": false
  }
 },
 "nbformat": 4,
 "nbformat_minor": 2
}
