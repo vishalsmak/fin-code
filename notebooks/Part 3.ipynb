{
 "cells": [
  {
   "cell_type": "markdown",
   "metadata": {
    "toc": true
   },
   "source": [
    "<h1>Table of Contents<span class=\"tocSkip\"></span></h1>\n",
    "<div class=\"toc\"><ul class=\"toc-item\"><li><span><a href=\"#Sympy---Symbolic-algebra-in-Python\" data-toc-modified-id=\"Sympy---Symbolic-algebra-in-Python-1\"><span class=\"toc-item-num\">1&nbsp;&nbsp;</span>Sympy - Symbolic algebra in Python</a></span><ul class=\"toc-item\"><li><span><a href=\"#Introduction\" data-toc-modified-id=\"Introduction-1.1\"><span class=\"toc-item-num\">1.1&nbsp;&nbsp;</span>Introduction</a></span></li><li><span><a href=\"#Rational-numbers\" data-toc-modified-id=\"Rational-numbers-1.2\"><span class=\"toc-item-num\">1.2&nbsp;&nbsp;</span>Rational numbers</a></span></li><li><span><a href=\"#Calculus-Applications\" data-toc-modified-id=\"Calculus-Applications-1.3\"><span class=\"toc-item-num\">1.3&nbsp;&nbsp;</span>Calculus Applications</a></span></li></ul></li><li><span><a href=\"#Probability-and-Statistics-Functions\" data-toc-modified-id=\"Probability-and-Statistics-Functions-2\"><span class=\"toc-item-num\">2&nbsp;&nbsp;</span>Probability and Statistics Functions</a></span><ul class=\"toc-item\"><li><span><a href=\"#rand,-rand_sample\" data-toc-modified-id=\"rand,-rand_sample-2.1\"><span class=\"toc-item-num\">2.1&nbsp;&nbsp;</span>rand, rand_sample</a></span><ul class=\"toc-item\"><li><span><a href=\"#randn-and-standard_normal\" data-toc-modified-id=\"randn-and-standard_normal-2.1.1\"><span class=\"toc-item-num\">2.1.1&nbsp;&nbsp;</span>randn and standard_normal</a></span></li><li><span><a href=\"#Random-numbers-don't-exist!\" data-toc-modified-id=\"Random-numbers-don't-exist!-2.1.2\"><span class=\"toc-item-num\">2.1.2&nbsp;&nbsp;</span>Random numbers don't exist!</a></span></li><li><span><a href=\"#Random-Array-Functions-1\" data-toc-modified-id=\"Random-Array-Functions-1-2.1.3\"><span class=\"toc-item-num\">2.1.3&nbsp;&nbsp;</span>Random Array Functions 1</a></span></li></ul></li><li><span><a href=\"#Random-number-generators\" data-toc-modified-id=\"Random-number-generators-2.2\"><span class=\"toc-item-num\">2.2&nbsp;&nbsp;</span>Random number generators</a></span><ul class=\"toc-item\"><li><span><a href=\"#binomial\" data-toc-modified-id=\"binomial-2.2.1\"><span class=\"toc-item-num\">2.2.1&nbsp;&nbsp;</span>binomial</a></span></li><li><span><a href=\"#uniform\" data-toc-modified-id=\"uniform-2.2.2\"><span class=\"toc-item-num\">2.2.2&nbsp;&nbsp;</span>uniform</a></span></li><li><span><a href=\"#normal\" data-toc-modified-id=\"normal-2.2.3\"><span class=\"toc-item-num\">2.2.3&nbsp;&nbsp;</span>normal</a></span></li><li><span><a href=\"#lognormal\" data-toc-modified-id=\"lognormal-2.2.4\"><span class=\"toc-item-num\">2.2.4&nbsp;&nbsp;</span>lognormal</a></span></li><li><span><a href=\"#Poisson\" data-toc-modified-id=\"Poisson-2.2.5\"><span class=\"toc-item-num\">2.2.5&nbsp;&nbsp;</span>Poisson</a></span></li><li><span><a href=\"#Subplots\" data-toc-modified-id=\"Subplots-2.2.6\"><span class=\"toc-item-num\">2.2.6&nbsp;&nbsp;</span>Subplots</a></span></li></ul></li></ul></li></ul></div>"
   ]
  },
  {
   "cell_type": "markdown",
   "metadata": {},
   "source": [
    " <br> <font color = blue size=10>Python Programming - Part III</font> "
   ]
  },
  {
   "cell_type": "markdown",
   "metadata": {},
   "source": [
    "# Sympy - Symbolic algebra in Python"
   ]
  },
  {
   "cell_type": "markdown",
   "metadata": {},
   "source": [
    "## Introduction\n",
    "Sympy is one of two Computer Algebra Systems (CAS) for Python. Its focus is on code simplicity while becoming a complete symbolic algebra package. To get started import the module sympy. "
   ]
  },
  {
   "cell_type": "code",
   "execution_count": null,
   "metadata": {},
   "outputs": [],
   "source": [
    "from sympy import *\n",
    "# or we can do import sympy as sp (say)"
   ]
  },
  {
   "cell_type": "markdown",
   "metadata": {},
   "source": [
    "We can produce very nice LATEX formatted output using the **init_printing()** function. However we do need to import a function **symbol**. Let's start with something really basic. Suppose we want to simplify $(2x+1)(x-1)$"
   ]
  },
  {
   "cell_type": "code",
   "execution_count": null,
   "metadata": {},
   "outputs": [],
   "source": [
    "from sympy import init_printing\n",
    "init_printing()\n",
    "from sympy import init_session"
   ]
  },
  {
   "cell_type": "code",
   "execution_count": null,
   "metadata": {},
   "outputs": [],
   "source": [
    "x=Symbol('x') # this is the variable being used\n",
    "(2*x+1)*(x-1)**2"
   ]
  },
  {
   "cell_type": "markdown",
   "metadata": {},
   "source": [
    "What makes this module powerful is the algebraic manipulation it performs. Let's stay with the previous expression and expand it using the **expand()** function"
   ]
  },
  {
   "cell_type": "code",
   "execution_count": null,
   "metadata": {},
   "outputs": [],
   "source": [
    "expand((2*x+1)*(x-1)**2)"
   ]
  },
  {
   "cell_type": "markdown",
   "metadata": {},
   "source": [
    "And if we want to factorise this cubic then use the **factor()** function"
   ]
  },
  {
   "cell_type": "code",
   "execution_count": null,
   "metadata": {},
   "outputs": [],
   "source": [
    "factor(2*x**3-3*x**2+1) # note that BIDMAS is used for hierarchy"
   ]
  },
  {
   "cell_type": "markdown",
   "metadata": {},
   "source": [
    "An alternative way to defining symbols is"
   ]
  },
  {
   "cell_type": "code",
   "execution_count": null,
   "metadata": {},
   "outputs": [],
   "source": [
    "a,b,c=symbols('a,b,c') # note function\n",
    "type(a) # only takes one argument"
   ]
  },
  {
   "cell_type": "code",
   "execution_count": null,
   "metadata": {},
   "outputs": [],
   "source": [
    "simplify(a+b+c)**2"
   ]
  },
  {
   "cell_type": "code",
   "execution_count": null,
   "metadata": {},
   "outputs": [],
   "source": [
    "a+2*b+6*c+4*a-9*c+8*b # will simplify and present"
   ]
  },
  {
   "cell_type": "code",
   "execution_count": null,
   "metadata": {},
   "outputs": [],
   "source": [
    "expand(sin(a+b), trig=True) #also set to False"
   ]
  },
  {
   "cell_type": "code",
   "execution_count": null,
   "metadata": {},
   "outputs": [],
   "source": [
    "expand(tan(a+b), trig=True)"
   ]
  },
  {
   "cell_type": "markdown",
   "metadata": {},
   "source": [
    "The **simplify** function attempts to simplify an expression into a set of nicer looking smaller terms using various techniques."
   ]
  },
  {
   "cell_type": "code",
   "execution_count": null,
   "metadata": {},
   "outputs": [],
   "source": [
    "simplify(sin(x-pi/2))"
   ]
  },
  {
   "cell_type": "code",
   "execution_count": null,
   "metadata": {},
   "outputs": [],
   "source": [
    "simplify(cos(x)/sin(x)/cos(x))"
   ]
  },
  {
   "cell_type": "markdown",
   "metadata": {},
   "source": [
    "We can add assumptions to variables when we create them"
   ]
  },
  {
   "cell_type": "code",
   "execution_count": null,
   "metadata": {},
   "outputs": [],
   "source": [
    "z=Symbol('z',real=True)\n",
    "z.is_imaginary"
   ]
  },
  {
   "cell_type": "markdown",
   "metadata": {},
   "source": [
    "The imaginary unit $i=\\sqrt{-1}$ denoted I in sympy"
   ]
  },
  {
   "cell_type": "code",
   "execution_count": null,
   "metadata": {},
   "outputs": [],
   "source": [
    "2+I"
   ]
  },
  {
   "cell_type": "code",
   "execution_count": null,
   "metadata": {},
   "outputs": [],
   "source": [
    "I**3"
   ]
  },
  {
   "cell_type": "markdown",
   "metadata": {},
   "source": [
    "## Rational numbers\n",
    "There are three different numerical types in SymPy - **real, rational, integer**. "
   ]
  },
  {
   "cell_type": "code",
   "execution_count": null,
   "metadata": {},
   "outputs": [],
   "source": [
    "import sympy as sp\n",
    "r1=sp.Rational(2,3)\n",
    "r2=Rational(3,4) # no sp required as sympy imported as *\n",
    "r1+r2"
   ]
  },
  {
   "cell_type": "markdown",
   "metadata": {},
   "source": [
    "## Calculus Applications\n",
    "A powerful feature of CAS is its Calculus functionality like derivatives and integrals of algebraic expressions.\n",
    "\n",
    "**Differentiation** – Use the diff function. The first argument is the expression to take the derivative of, and the second is the symbol by which to take the derivative:"
   ]
  },
  {
   "cell_type": "code",
   "execution_count": null,
   "metadata": {},
   "outputs": [],
   "source": [
    "x,y = symbols('x,y') #define symbols\n",
    "y=(x+pi)**4 # define function\n",
    "ydash=diff(y,x)\n",
    "ydash"
   ]
  },
  {
   "cell_type": "code",
   "execution_count": null,
   "metadata": {},
   "outputs": [],
   "source": [
    "diff(y,x,x) # 2nd order derivative"
   ]
  },
  {
   "cell_type": "code",
   "execution_count": null,
   "metadata": {},
   "outputs": [],
   "source": [
    "diff(y,x,x,x) # 3rd order derivative"
   ]
  },
  {
   "cell_type": "markdown",
   "metadata": {},
   "source": [
    "Trig functions and transcendental functions can also be differentiated"
   ]
  },
  {
   "cell_type": "code",
   "execution_count": null,
   "metadata": {},
   "outputs": [],
   "source": [
    "y=sp.exp(x)*sp.cos(x)\n",
    "dy_dx=diff(y,x)\n",
    "dy_dx"
   ]
  },
  {
   "cell_type": "code",
   "execution_count": null,
   "metadata": {},
   "outputs": [],
   "source": [
    "y=3**x\n",
    "dy_dx=sp.diff(y,x)\n",
    "dy_dx"
   ]
  },
  {
   "cell_type": "code",
   "execution_count": null,
   "metadata": {},
   "outputs": [],
   "source": [
    "import numpy as np\n",
    "y=sp.log(sp.tan(x),np.e)\n",
    "diff(y,x)"
   ]
  },
  {
   "cell_type": "markdown",
   "metadata": {},
   "source": [
    "multivariate functions $f(x,y,z)$ can also be differentiated to give $\\frac{\\partial{f}}{\\partial{x}}$, $\\frac{\\partial{f}}{\\partial{y}}$, $\\frac{\\partial{f}}{\\partial{z}}$ as well second order derivatives and mixed partial derivatives"
   ]
  },
  {
   "cell_type": "code",
   "execution_count": null,
   "metadata": {},
   "outputs": [],
   "source": [
    "x,y,z=symbols('x y z')\n",
    "f=sp.sin(x*y)+sp.cos(y*z)+sp.exp(x*z)\n",
    "# in this cell 3 variables x,y,z and f(x,y,z) defined"
   ]
  },
  {
   "cell_type": "code",
   "execution_count": null,
   "metadata": {},
   "outputs": [],
   "source": [
    "diff(f,x) # x derivative"
   ]
  },
  {
   "cell_type": "code",
   "execution_count": null,
   "metadata": {},
   "outputs": [],
   "source": [
    "diff(f,y) # y derivative"
   ]
  },
  {
   "cell_type": "code",
   "execution_count": null,
   "metadata": {},
   "outputs": [],
   "source": [
    "diff(f,z) # z derivative"
   ]
  },
  {
   "cell_type": "code",
   "execution_count": null,
   "metadata": {},
   "outputs": [],
   "source": [
    "diff(f,x,y) # mixed derivative"
   ]
  },
  {
   "cell_type": "code",
   "execution_count": null,
   "metadata": {},
   "outputs": [],
   "source": [
    "diff(f,y,x) # other mixed partial deriv"
   ]
  },
  {
   "cell_type": "markdown",
   "metadata": {},
   "source": [
    "**Integration**: Integration is done in a similar fashion using the function integrate(). To simplify$$\\int_{a}^{b} f(x) dx$$ \n",
    "we do integrate($f(x)$, $($x$,$a$, $b$)$)"
   ]
  },
  {
   "cell_type": "code",
   "execution_count": null,
   "metadata": {},
   "outputs": [],
   "source": [
    "y=sp.sin(x)\n",
    "integrate(y,(x,0,pi/2))"
   ]
  },
  {
   "cell_type": "code",
   "execution_count": null,
   "metadata": {},
   "outputs": [],
   "source": [
    "integrate(y,x) # indefinite integral"
   ]
  },
  {
   "cell_type": "code",
   "execution_count": null,
   "metadata": {},
   "outputs": [],
   "source": [
    "f=sp.exp(-x**2)\n",
    "integrate(f,(x,-oo,oo)) # oo is the SymPy notation for infinity"
   ]
  },
  {
   "cell_type": "markdown",
   "metadata": {},
   "source": [
    "Double integration can also be performed e.g.\n",
    "\\begin{equation*}\n",
    "\\int_{-\\infty }^{\\infty }\\int_{-\\infty }^{\\infty }e^{-x^{2}-y^{2}}dxdy\n",
    "\\end{equation*}\n"
   ]
  },
  {
   "cell_type": "code",
   "execution_count": null,
   "metadata": {},
   "outputs": [],
   "source": [
    "x,y=symbols('x y') # need to redefine variables\n",
    "F=sp.exp(-x**2-y**2)\n",
    "sp.integrate(F, (x, -oo, oo), (y, -oo, oo))"
   ]
  },
  {
   "cell_type": "markdown",
   "metadata": {},
   "source": [
    "# Probability and Statistics Functions"
   ]
  },
  {
   "cell_type": "markdown",
   "metadata": {},
   "source": [
    "Numpy and Scipy have been introduced earlier. Both packages contain powerful functionality for performing important computation for the purposes of simulation, probability distributions and statistics operations.\n",
    "\n",
    "NumPy random number generators are found in the module numpy.random. To import, use numpy and then calling np.random.rand, for example, although there are a number of ways to do this. \n",
    "\n",
    "## rand, rand_sample\n",
    "rand and rand_sample are uniform number generators, i.e. $U(0,1)$ which are identical except that rand takes a variable number of integer inputs - one for each dimension - while random_sample takes a $n$-element tuple. \n",
    "\n",
    "To sample $U(a,b), b>a$; multiply the output of the random_sample by $(b-a)$ and add $a$. So the following\n",
    "$(b-a)\\times$random_sample$()$+$a{\\sim}U(a,b)$\n",
    "\n",
    "Example use:"
   ]
  },
  {
   "cell_type": "code",
   "execution_count": null,
   "metadata": {},
   "outputs": [],
   "source": [
    "import numpy as np\n",
    "x=np.random.rand(3,2,4)\n",
    "print(x) # Exercise: run a few times to get structure of array"
   ]
  },
  {
   "cell_type": "markdown",
   "metadata": {},
   "source": [
    "### randn and standard_normal\n",
    "randn and standard_normal $N(0,1)$ are standard normal random number generators. randn, like rand, takes a variable number of integer inputs, and standard_normal takes one argument; an $n$-element tuple. Both can be called with no arguments to generate a single standard normal (e.g. randn()). \n"
   ]
  },
  {
   "cell_type": "code",
   "execution_count": null,
   "metadata": {},
   "outputs": [],
   "source": [
    "#N(0,1)\n",
    "x=np.random.randn(3,2,4) # multiple arguments\n",
    "print(x)"
   ]
  },
  {
   "cell_type": "code",
   "execution_count": null,
   "metadata": {},
   "outputs": [],
   "source": [
    "x=np.random.standard_normal((3,2,4)) # one argument n-tuple\n",
    "print(x) # Exercise: run a few times to get structure of array"
   ]
  },
  {
   "cell_type": "markdown",
   "metadata": {},
   "source": [
    "A general structure (x,y,z) creates x blocks; each block containing y rows and z columns to give xyz elements. "
   ]
  },
  {
   "cell_type": "markdown",
   "metadata": {},
   "source": [
    "### Random numbers don't exist!\n",
    "Computer simulated random numbers are usually constructed from very complex but ultimately deterministic functions. These are not purely random, but are  pseudo-random. All pseudo-random numbers in NumPy use one core random number generator based on the Mersenne Twister, a generator which can produce a very long series of pseudo-random data before repeating (up to $2^{19937}-1$ non-repeating values). It also provides a much larger number of distributions to choose from. "
   ]
  },
  {
   "cell_type": "markdown",
   "metadata": {},
   "source": [
    "### Random Array Functions 1\n",
    "The function shuffle() randomly reorders the elements of an array (only single element parameter). The original array is changed. "
   ]
  },
  {
   "cell_type": "code",
   "execution_count": null,
   "metadata": {},
   "outputs": [],
   "source": [
    "import random # for using shuffle function\n",
    "a=[0,1,2,3,4,5,6,7,8,9,10]\n",
    "type(a)"
   ]
  },
  {
   "cell_type": "code",
   "execution_count": null,
   "metadata": {},
   "outputs": [],
   "source": [
    "random.shuffle(a) # run this cell a few times"
   ]
  },
  {
   "cell_type": "code",
   "execution_count": null,
   "metadata": {},
   "outputs": [],
   "source": [
    "a"
   ]
  },
  {
   "cell_type": "markdown",
   "metadata": {},
   "source": [
    "So the original list has changed. "
   ]
  },
  {
   "cell_type": "markdown",
   "metadata": {},
   "source": [
    "## Random number generators\n",
    "Numpy through numpy.random provides an efficient and simple way to produce numbers of specific distributions. Depending on the distribution parameters these take between 0 and 2 inputs. Here are some useful examples for finance applications, ranging from 0 to 2 inputs, as well as a tuple size for the output. \n",
    "### binomial\n",
    "The function binomial(n,p) generates a sample from the Binomial$(n,p)$ distribution. \n",
    "binomial(n,p,(𝑎,𝑏)) draws an array of dimension $a$ by $b$ from the Binomial(n, p) distribution.\n"
   ]
  },
  {
   "cell_type": "code",
   "execution_count": null,
   "metadata": {},
   "outputs": [],
   "source": [
    "np.random.binomial(30,0.25) # single variable"
   ]
  },
  {
   "cell_type": "code",
   "execution_count": null,
   "metadata": {},
   "outputs": [],
   "source": [
    "x=np.random.binomial(30,0.25,(2,3,4)) # 2 by 3 array of the above distribution\n",
    "print(x) # or simply x"
   ]
  },
  {
   "cell_type": "code",
   "execution_count": null,
   "metadata": {},
   "outputs": [],
   "source": [
    "np.mean(x) # recall mean is np."
   ]
  },
  {
   "cell_type": "markdown",
   "metadata": {},
   "source": [
    "There may be hidden precision in the output. "
   ]
  },
  {
   "cell_type": "markdown",
   "metadata": {},
   "source": [
    "### uniform\n",
    "uniform() draws a uniform random variable on (0,1). uniform(low, high) generates a uniform on (l , h). uniform(low, high, (m,n)) generates a $m{\\times}n$ array of uniforms on (l , h)."
   ]
  },
  {
   "cell_type": "code",
   "execution_count": null,
   "metadata": {},
   "outputs": [],
   "source": [
    "np.random.uniform(0,1) # although the 2 parameters are not required for U(0,1)"
   ]
  },
  {
   "cell_type": "code",
   "execution_count": null,
   "metadata": {},
   "outputs": [],
   "source": [
    "np.random.uniform()"
   ]
  },
  {
   "cell_type": "code",
   "execution_count": null,
   "metadata": {},
   "outputs": [],
   "source": [
    "np.random.uniform(1,4) #U(1,4)"
   ]
  },
  {
   "cell_type": "code",
   "execution_count": null,
   "metadata": {},
   "outputs": [],
   "source": [
    "x=np.random.uniform(0,1,(2,2)) # 2x2 matrix of U(0,1)\n",
    "print(x)"
   ]
  },
  {
   "cell_type": "markdown",
   "metadata": {},
   "source": [
    "### normal\n",
    "The function normal() draws from a standard Normal (Gaussian) distribution. normal(mu, sigma) generates draws from a Normal with mean $\\mu$ and standard deviation $\\sigma$. \n",
    "normal(mu, sigma, (n,m)) generates a n by m array of the above. normal(mu, sigma) is equivalent to\n",
    "$\\mu+\\sigma\\phi$ which gives $X{\\sim}N(\\mu,{\\sigma^2})$."
   ]
  },
  {
   "cell_type": "code",
   "execution_count": null,
   "metadata": {},
   "outputs": [],
   "source": [
    "x=np.random.normal(0,1,(100))\n",
    "x"
   ]
  },
  {
   "cell_type": "code",
   "execution_count": null,
   "metadata": {},
   "outputs": [],
   "source": [
    "np.mean(x)"
   ]
  },
  {
   "cell_type": "markdown",
   "metadata": {},
   "source": [
    "**The geometric mean can be calculated using the function stats.gmean() function which can be found in SciPy** The following is needed\n",
    "\n",
    "from scipy import stats"
   ]
  },
  {
   "cell_type": "markdown",
   "metadata": {},
   "source": [
    "We haven't said anything about the second moment. Numpy has functions for calculating the variance and standard deviation. If x is a data array then the variance and standard deviation, in turn, are given by \n",
    "\n",
    "np.variance(x) \n",
    "\n",
    "np.std(x)"
   ]
  },
  {
   "cell_type": "code",
   "execution_count": null,
   "metadata": {},
   "outputs": [],
   "source": [
    "np.var(x)"
   ]
  },
  {
   "cell_type": "code",
   "execution_count": null,
   "metadata": {},
   "outputs": [],
   "source": [
    "np.std(x)"
   ]
  },
  {
   "cell_type": "markdown",
   "metadata": {},
   "source": [
    "### lognormal\n",
    "lognormal() simulates a log-normal distribution with $\\mu=0$; $\\sigma=1.$\n",
    "lognormal(mu, sigma, (m,n)) generates a $m{\\times}n$ array of Log-Normally distributed data where the underlying Normal distribution has mean parameter $\\mu$ and parameter $\\sigma$. To use, here is an example"
   ]
  },
  {
   "cell_type": "code",
   "execution_count": null,
   "metadata": {},
   "outputs": [],
   "source": [
    "z=np.random.lognormal(0,1,(3,3))\n",
    "z"
   ]
  },
  {
   "cell_type": "markdown",
   "metadata": {},
   "source": [
    "### Poisson\n",
    "poisson() generates a draw from a Poisson distribution with $\\lambda=1$. poisson(lambda) generates a draw from a Poisson distribution with expectation $\\lambda$. poisson(lambda, (n,m)) generates a $n\\times m$ array of draws from a Poisson distribution with expectation $\\lambda$.\n"
   ]
  },
  {
   "cell_type": "code",
   "execution_count": null,
   "metadata": {},
   "outputs": [],
   "source": [
    "import numpy as np\n",
    "np.random.poisson()"
   ]
  },
  {
   "cell_type": "code",
   "execution_count": null,
   "metadata": {},
   "outputs": [],
   "source": [
    "np.random.poisson(4) #lambda=4"
   ]
  },
  {
   "cell_type": "code",
   "execution_count": null,
   "metadata": {},
   "outputs": [],
   "source": [
    "x=np.random.poisson(3,(2,2)) # 2 by 2 with expected value=3\n",
    "print(x,np.mean(x))"
   ]
  },
  {
   "cell_type": "markdown",
   "metadata": {},
   "source": [
    "**Seed is better.**\n",
    "numpy.random.seed is a more useful function for initializing the random number generator, and can be used in one of two ways.  seed() will initialize (or reinitialize) the random number generator using some actual random data provided by the operating system. seed(s) takes a vector of values (can be scalar) to initialize the random number generator at particular state.\n",
    "\n",
    "In the following sample code, calls to seed() produce different random numbers, since these reinitialize using random data from the computer, while calls to seed(0) produce the same (sequence) of random numbers. seed( s ) is particularly useful for producing simulation studies which are reproducible."
   ]
  },
  {
   "cell_type": "code",
   "execution_count": null,
   "metadata": {},
   "outputs": [],
   "source": [
    "np.random.seed(2)\n",
    "np.random.normal(0,1,(2,2))"
   ]
  },
  {
   "cell_type": "code",
   "execution_count": null,
   "metadata": {},
   "outputs": [],
   "source": [
    "np.random.normal(0,1,(2,2))"
   ]
  },
  {
   "cell_type": "code",
   "execution_count": null,
   "metadata": {},
   "outputs": [],
   "source": [
    "np.random.seed(0)\n",
    "np.random.normal(0,1,(2,2))"
   ]
  },
  {
   "cell_type": "code",
   "execution_count": null,
   "metadata": {},
   "outputs": [],
   "source": [
    "np.random.normal(0,1,(2,2))"
   ]
  },
  {
   "cell_type": "markdown",
   "metadata": {},
   "source": [
    "**numpy random.random**  This produces generates from the continuous U(0.0,1.0) distribution"
   ]
  },
  {
   "cell_type": "code",
   "execution_count": null,
   "metadata": {},
   "outputs": [],
   "source": [
    "np.random.random(3)"
   ]
  },
  {
   "cell_type": "markdown",
   "metadata": {},
   "source": [
    "To sample U(a,b), perform U(0,1)x(b-a)+a  "
   ]
  },
  {
   "cell_type": "markdown",
   "metadata": {},
   "source": [
    "**Further note on abbreviation** np.random. as a prefix is still cumbersome. The following can be done to further abbreviate this"
   ]
  },
  {
   "cell_type": "code",
   "execution_count": null,
   "metadata": {},
   "outputs": [],
   "source": [
    "np.random.seed(7866)\n",
    "import numpy.random as npr # npr much shorter\n",
    "npr.normal(0,1,(3,3)) # earlier example "
   ]
  },
  {
   "cell_type": "code",
   "execution_count": null,
   "metadata": {},
   "outputs": [],
   "source": [
    "npr.random((2,2)) # shorthand for random.random"
   ]
  },
  {
   "cell_type": "markdown",
   "metadata": {},
   "source": [
    "Let's do some plots. Start by generating for different distributions"
   ]
  },
  {
   "cell_type": "code",
   "execution_count": null,
   "metadata": {},
   "outputs": [],
   "source": [
    "### Standard normls ###\n",
    "import matplotlib.pyplot as plt\n",
    "X = npr.standard_normal(50000)\n",
    "plt.hist(X,bins=100, color='pink')\n",
    "plt.title('$N(0,1)$')\n",
    "plt.show()\n"
   ]
  },
  {
   "cell_type": "code",
   "execution_count": null,
   "metadata": {},
   "outputs": [],
   "source": [
    "### Normal distribution ###\n",
    "Y = npr.normal(-1, 3, (5000))\n",
    "plt.title('$N(-1,3)$')\n",
    "plt.hist(Y,bins=100)\n",
    "plt.show()"
   ]
  },
  {
   "cell_type": "code",
   "execution_count": null,
   "metadata": {},
   "outputs": [],
   "source": [
    "### uniform ###\n",
    "Z = npr.uniform(-3, 3, (5000)) \n",
    "plt.hist(Z,bins=100)\n",
    "plt.title('U(-3,3)')\n",
    "plt.show()\n"
   ]
  },
  {
   "cell_type": "code",
   "execution_count": null,
   "metadata": {},
   "outputs": [],
   "source": [
    "\n",
    "### lognormal ###\n",
    "\n",
    "W = npr.lognormal(0, 1, (5000))\n",
    "plt.hist(W,bins=100, color='cyan')\n",
    "plt.title('lognormal(0,1)')\n",
    "plt.autoscale(enable=True)\n",
    "plt.show()"
   ]
  },
  {
   "cell_type": "markdown",
   "metadata": {},
   "source": [
    "To obtain a cumulative distribution, simply add an extra function argument \n",
    "cumulative = True\n",
    "e.g."
   ]
  },
  {
   "cell_type": "code",
   "execution_count": null,
   "metadata": {},
   "outputs": [],
   "source": [
    "X = npr.standard_normal(50000)\n",
    "plt.hist(X,bins=100, cumulative = True, color='grey')\n",
    "plt.title('$N(0,1)$')\n",
    "plt.show()"
   ]
  },
  {
   "cell_type": "markdown",
   "metadata": {},
   "source": [
    "### Subplots\n"
   ]
  },
  {
   "cell_type": "code",
   "execution_count": null,
   "metadata": {},
   "outputs": [],
   "source": [
    "bins = np.linspace(-3,3,100) # define the width of the bins\n",
    "fig = plt.figure(figsize = (12,10)) # define size of figure \n",
    "\n",
    "\n",
    "sub1 = fig.add_subplot(221)\n",
    "plt.hist(X,bins,cumulative=True)\n",
    "plt.title('$N(0,1)$', fontsize = 14)\n",
    "plt.xlabel('Value', fontsize=12)\n",
    "plt.ylabel('Frequency', fontsize=12)\n",
    "\n",
    "sub2 = fig.add_subplot(222)\n",
    "plt.hist(Y,bins)\n",
    "plt.title('$N(-1,3)$', fontsize = 14)\n",
    "plt.xlabel('Value', fontsize=12)\n",
    "plt.ylabel('Frequency', fontsize=12)\n",
    "\n",
    "sub3 = fig.add_subplot(223)\n",
    "plt.hist(Z,bins)\n",
    "plt.title('$U(-3,3)$', fontsize = 14)\n",
    "plt.xlabel('Value', fontsize=12)\n",
    "plt.ylabel('Frequency', fontsize=12)\n",
    "\n",
    "sub4 = fig.add_subplot(224)\n",
    "plt.hist(W,bins)\n",
    "plt.title('$LN(0,1)$', fontsize = 14)\n",
    "plt.xlabel('Value', fontsize=12)\n",
    "plt.ylabel('Frequency', fontsize=12)\n",
    "\n",
    "plt.show()"
   ]
  },
  {
   "cell_type": "code",
   "execution_count": null,
   "metadata": {},
   "outputs": [],
   "source": []
  }
 ],
 "metadata": {
  "kernelspec": {
   "display_name": "fincode",
   "language": "python",
   "name": "fincode"
  },
  "language_info": {
   "codemirror_mode": {
    "name": "ipython",
    "version": 3
   },
   "file_extension": ".py",
   "mimetype": "text/x-python",
   "name": "python",
   "nbconvert_exporter": "python",
   "pygments_lexer": "ipython3",
   "version": "3.10.13"
  },
  "latex_envs": {
   "LaTeX_envs_menu_present": false,
   "autoclose": false,
   "autocomplete": true,
   "bibliofile": "biblio.bib",
   "cite_by": "apalike",
   "current_citInitial": 1,
   "eqLabelWithNumbers": false,
   "eqNumInitial": 1,
   "hotkeys": {
    "equation": "Ctrl-E",
    "itemize": "Ctrl-I"
   },
   "labels_anchors": false,
   "latex_user_defs": false,
   "report_style_numbering": false,
   "user_envs_cfg": false
  },
  "nbTranslate": {
   "displayLangs": [
    "*"
   ],
   "hotkey": "alt-t",
   "langInMainMenu": true,
   "sourceLang": "en",
   "targetLang": "fr",
   "useGoogleTranslate": true
  },
  "toc": {
   "base_numbering": 1,
   "nav_menu": {},
   "number_sections": true,
   "sideBar": true,
   "skip_h1_title": false,
   "title_cell": "Table of Contents",
   "title_sidebar": "Contents",
   "toc_cell": true,
   "toc_position": {
    "height": "calc(100% - 180px)",
    "left": "10px",
    "top": "150px",
    "width": "424px"
   },
   "toc_section_display": true,
   "toc_window_display": true
  },
  "varInspector": {
   "cols": {
    "lenName": 16,
    "lenType": 16,
    "lenVar": 40
   },
   "kernels_config": {
    "python": {
     "delete_cmd_postfix": "",
     "delete_cmd_prefix": "del ",
     "library": "var_list.py",
     "varRefreshCmd": "print(var_dic_list())"
    },
    "r": {
     "delete_cmd_postfix": ") ",
     "delete_cmd_prefix": "rm(",
     "library": "var_list.r",
     "varRefreshCmd": "cat(var_dic_list()) "
    }
   },
   "types_to_exclude": [
    "module",
    "function",
    "builtin_function_or_method",
    "instance",
    "_Feature"
   ],
   "window_display": false
  }
 },
 "nbformat": 4,
 "nbformat_minor": 2
}
