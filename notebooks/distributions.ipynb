{
 "cells": [
  {
   "cell_type": "markdown",
   "metadata": {},
   "source": []
  },
  {
   "cell_type": "code",
   "execution_count": null,
   "metadata": {},
   "outputs": [],
   "source": [
    "import numpy as np\n",
    "import matplotlib.pyplot as plt\n",
    "from scipy.stats import norm, t, chi2, f, expon, poisson, binom, uniform\n",
    "\n",
    "# Define range for x values\n",
    "x = np.linspace(-5, 5, 1000)\n",
    "x_pos = np.linspace(0, 10, 1000)\n",
    "x_binom = np.arange(0, 21)\n",
    "x_poisson = np.arange(0, 15)\n",
    "\n",
    "# Create a new figure for plotting\n",
    "plt.figure(figsize=(10, 6))\n",
    "\n",
    "# Normal Distribution\n",
    "plt.plot(x, norm.pdf(x, 0, 1), label='Normal Distribution')\n",
    "\n",
    "# T-Distribution with df=5\n",
    "plt.plot(x, t.pdf(x, 5), label=\"T-Distribution (df=5)\")\n",
    "\n",
    "# Chi-Square Distribution with df=5\n",
    "plt.plot(x_pos, chi2.pdf(x_pos, 5), label=\"Chi-Square Distribution (df=5)\")\n",
    "\n",
    "# F-Distribution with df1=5, df2=5\n",
    "plt.plot(x_pos, f.pdf(x_pos, 5, 5), label=\"F-Distribution (df1=5, df2=5)\")\n",
    "\n",
    "# Exponential Distribution with lambda=1\n",
    "plt.plot(x_pos, expon.pdf(x_pos, scale=1), label=\"Exponential Distribution\")\n",
    "\n",
    "# Poisson Distribution with lambda=3\n",
    "plt.stem(x_poisson, poisson.pmf(x_poisson, 3), label=\"Poisson Distribution (lambda=3)\", basefmt=\" \")\n",
    "\n",
    "# Binomial Distribution with n=20, p=0.5\n",
    "plt.stem(x_binom, binom.pmf(x_binom, 20, 0.5), label=\"Binomial Distribution (n=20, p=0.5)\", basefmt=\" \")\n",
    "\n",
    "# Uniform Distribution from -3 to 3\n",
    "plt.plot(x, uniform.pdf(x, -3, 6), label=\"Uniform Distribution (a=-3, b=3)\")\n",
    "\n",
    "# Add legend, title, labels, and grid\n",
    "plt.legend()\n",
    "plt.title(\"Common Statistical Distributions\")\n",
    "plt.xlabel(\"Value\")\n",
    "plt.ylabel(\"Probability Density / Mass\")\n",
    "plt.grid(True)\n",
    "\n",
    "# Show plot\n",
    "plt.show()\n"
   ]
  },
  {
   "cell_type": "code",
   "execution_count": null,
   "metadata": {},
   "outputs": [],
   "source": [
    "import numpy as np\n",
    "import matplotlib.pyplot as plt\n",
    "\n",
    "# Parameters\n",
    "mean = 0.05\n",
    "std_dev = 0.02\n",
    "num_simulations = 1000\n",
    "\n",
    "# Generate multiple random returns\n",
    "returns = [mean + std_dev * np.random.normal(0, 1) for _ in range(num_simulations)]\n",
    "\n",
    "print(np.random.normal(0,1))\n",
    "# Plot the distribution of returns\n",
    "plt.hist(returns, bins=30, edgecolor='k', alpha=0.7)\n",
    "plt.title(\"Distribution of Simulated Returns\")\n",
    "plt.xlabel(\"Return\")\n",
    "plt.ylabel(\"Frequency\")\n",
    "plt.show()\n"
   ]
  },
  {
   "cell_type": "code",
   "execution_count": null,
   "metadata": {},
   "outputs": [],
   "source": []
  }
 ],
 "metadata": {
  "kernelspec": {
   "display_name": "fincode",
   "language": "python",
   "name": "python3"
  },
  "language_info": {
   "codemirror_mode": {
    "name": "ipython",
    "version": 3
   },
   "file_extension": ".py",
   "mimetype": "text/x-python",
   "name": "python",
   "nbconvert_exporter": "python",
   "pygments_lexer": "ipython3",
   "version": "3.10.13"
  }
 },
 "nbformat": 4,
 "nbformat_minor": 2
}
